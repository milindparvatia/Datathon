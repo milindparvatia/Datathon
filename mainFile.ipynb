{
 "metadata": {
  "language_info": {
   "codemirror_mode": {
    "name": "ipython",
    "version": 3
   },
   "file_extension": ".py",
   "mimetype": "text/x-python",
   "name": "python",
   "nbconvert_exporter": "python",
   "pygments_lexer": "ipython3",
   "version": "3.6.10-final"
  },
  "orig_nbformat": 2,
  "kernelspec": {
   "name": "Python 3.6.10 64-bit ('ml': conda)",
   "display_name": "Python 3.6.10 64-bit ('ml': conda)",
   "metadata": {
    "interpreter": {
     "hash": "8aa8f1568b76895711a2d690aab17e3f48ee6e4caedd5072180724dcc169c1ad"
    }
   }
  }
 },
 "nbformat": 4,
 "nbformat_minor": 2,
 "cells": [
  {
   "cell_type": "code",
   "execution_count": 210,
   "metadata": {},
   "outputs": [],
   "source": [
    "# import packages\n",
    "import numpy as np\n",
    "import pandas as pd\n",
    "import matplotlib.pyplot as plt\n",
    "%matplotlib inline\n",
    "from IPython.display import display, HTML, display_html\n",
    "import seaborn as sns\n",
    "import datetime as dt\n",
    "import tensorflow as tf\n",
    "import IPython\n",
    "import holidays\n",
    "from datetime import date\n",
    "\n",
    "from sklearn import svm\n",
    "from sklearn.pipeline import make_pipeline\n",
    "from sklearn.preprocessing import StandardScaler\n",
    "from sklearn.preprocessing import MinMaxScaler\n",
    "from sklearn.model_selection import train_test_split, RepeatedStratifiedKFold\n",
    "\n",
    "from sklearn.metrics import mean_squared_error,mean_absolute_error\n",
    "\n",
    "# random search linear regression model on the auto insurance dataset\n",
    "from scipy.stats import loguniform\n",
    "from sklearn.model_selection import RepeatedKFold\n",
    "from sklearn.model_selection import RandomizedSearchCV\n"
   ]
  },
  {
   "cell_type": "code",
   "execution_count": 184,
   "metadata": {},
   "outputs": [
    {
     "output_type": "execute_result",
     "data": {
      "text/plain": "   Unnamed: 0  Unnamed: 0.1 b&#39;REGION       SETTLEMENTDATE  TOTALDEMAND    RRP  \\\n0           0             1    nNSW1  2016/12/01 00:30:00      7100.66  52.97   \n1           1             2    nNSW1  2016/12/01 01:00:00      6818.00  42.08   \n2           2             3    nNSW1  2016/12/01 01:30:00      6538.58  50.16   \n3           3             4    nNSW1  2016/12/01 02:00:00      6367.53  47.64   \n4           4             5    nNSW1  2016/12/01 02:30:00      6213.00  45.50   \n\n  PERIODTYPE  \n0      TRADE  \n1      TRADE  \n2      TRADE  \n3      TRADE  \n4      TRADE  ",
      "text/html": "<div>\n<style scoped>\n    .dataframe tbody tr th:only-of-type {\n        vertical-align: middle;\n    }\n\n    .dataframe tbody tr th {\n        vertical-align: top;\n    }\n\n    .dataframe thead th {\n        text-align: right;\n    }\n</style>\n<table border=\"1\" class=\"dataframe\">\n  <thead>\n    <tr style=\"text-align: right;\">\n      <th></th>\n      <th>Unnamed: 0</th>\n      <th>Unnamed: 0.1</th>\n      <th>b'REGION</th>\n      <th>SETTLEMENTDATE</th>\n      <th>TOTALDEMAND</th>\n      <th>RRP</th>\n      <th>PERIODTYPE</th>\n    </tr>\n  </thead>\n  <tbody>\n    <tr>\n      <th>0</th>\n      <td>0</td>\n      <td>1</td>\n      <td>nNSW1</td>\n      <td>2016/12/01 00:30:00</td>\n      <td>7100.66</td>\n      <td>52.97</td>\n      <td>TRADE</td>\n    </tr>\n    <tr>\n      <th>1</th>\n      <td>1</td>\n      <td>2</td>\n      <td>nNSW1</td>\n      <td>2016/12/01 01:00:00</td>\n      <td>6818.00</td>\n      <td>42.08</td>\n      <td>TRADE</td>\n    </tr>\n    <tr>\n      <th>2</th>\n      <td>2</td>\n      <td>3</td>\n      <td>nNSW1</td>\n      <td>2016/12/01 01:30:00</td>\n      <td>6538.58</td>\n      <td>50.16</td>\n      <td>TRADE</td>\n    </tr>\n    <tr>\n      <th>3</th>\n      <td>3</td>\n      <td>4</td>\n      <td>nNSW1</td>\n      <td>2016/12/01 02:00:00</td>\n      <td>6367.53</td>\n      <td>47.64</td>\n      <td>TRADE</td>\n    </tr>\n    <tr>\n      <th>4</th>\n      <td>4</td>\n      <td>5</td>\n      <td>nNSW1</td>\n      <td>2016/12/01 02:30:00</td>\n      <td>6213.00</td>\n      <td>45.50</td>\n      <td>TRADE</td>\n    </tr>\n  </tbody>\n</table>\n</div>"
     },
     "metadata": {},
     "execution_count": 184
    }
   ],
   "source": [
    "df = pd.read_csv('main_data/NSW.csv')\n",
    "dfmx = pd.read_csv('main_data/NSW_MAX_TEMP/NSW_Data.csv')\n",
    "dfmn = pd.read_csv('main_data/NSW_MIN_TEMP/NSW_Data.csv')\n",
    "df.head()"
   ]
  },
  {
   "cell_type": "code",
   "execution_count": 185,
   "metadata": {},
   "outputs": [
    {
     "output_type": "execute_result",
     "data": {
      "text/plain": "            SETTLEMENTDATE  TOTALDEMAND    RRP\n201543 1999-01-01 00:30:00   6820.56000  27.64\n201544 1999-01-01 01:00:00   6421.34833  26.64\n201545 1999-01-01 01:30:00   5991.45000  25.81\n201546 1999-01-01 02:00:00   5663.07333  19.94\n201547 1999-01-01 02:30:00   5384.04667  19.48",
      "text/html": "<div>\n<style scoped>\n    .dataframe tbody tr th:only-of-type {\n        vertical-align: middle;\n    }\n\n    .dataframe tbody tr th {\n        vertical-align: top;\n    }\n\n    .dataframe thead th {\n        text-align: right;\n    }\n</style>\n<table border=\"1\" class=\"dataframe\">\n  <thead>\n    <tr style=\"text-align: right;\">\n      <th></th>\n      <th>SETTLEMENTDATE</th>\n      <th>TOTALDEMAND</th>\n      <th>RRP</th>\n    </tr>\n  </thead>\n  <tbody>\n    <tr>\n      <th>201543</th>\n      <td>1999-01-01 00:30:00</td>\n      <td>6820.56000</td>\n      <td>27.64</td>\n    </tr>\n    <tr>\n      <th>201544</th>\n      <td>1999-01-01 01:00:00</td>\n      <td>6421.34833</td>\n      <td>26.64</td>\n    </tr>\n    <tr>\n      <th>201545</th>\n      <td>1999-01-01 01:30:00</td>\n      <td>5991.45000</td>\n      <td>25.81</td>\n    </tr>\n    <tr>\n      <th>201546</th>\n      <td>1999-01-01 02:00:00</td>\n      <td>5663.07333</td>\n      <td>19.94</td>\n    </tr>\n    <tr>\n      <th>201547</th>\n      <td>1999-01-01 02:30:00</td>\n      <td>5384.04667</td>\n      <td>19.48</td>\n    </tr>\n  </tbody>\n</table>\n</div>"
     },
     "metadata": {},
     "execution_count": 185
    }
   ],
   "source": [
    "df = df[['SETTLEMENTDATE','TOTALDEMAND','RRP']]\n",
    "df[['SETTLEMENTDATE']] = pd.to_datetime(df['SETTLEMENTDATE'], exact=True, cache=True, format='%Y-%m-%d %H:%M:%S')\n",
    "df = df.sort_values(by='SETTLEMENTDATE')\n",
    "df.head()"
   ]
  },
  {
   "cell_type": "code",
   "execution_count": 186,
   "metadata": {},
   "outputs": [],
   "source": [
    "df = pd.DataFrame({\"date\": df.SETTLEMENTDATE.dt.date, \"time\": df.SETTLEMENTDATE.dt.time, \"consumption\": df.TOTALDEMAND})\n",
    "df = df.dropna()"
   ]
  },
  {
   "cell_type": "code",
   "execution_count": 187,
   "metadata": {},
   "outputs": [
    {
     "output_type": "execute_result",
     "data": {
      "text/plain": "            consumption\nds                     \n1999-01-01  6118.070460\n1999-01-02  6356.287778\n1999-01-03  6556.256215\n1999-01-04  7777.891632\n1999-01-05  8085.142431\n...                 ...\n2020-09-12  6913.052500\n2020-09-13  6817.360833\n2020-09-14  7132.939792\n2020-09-15  7313.942083\n2020-09-16  7168.716458\n\n[7930 rows x 1 columns]",
      "text/html": "<div>\n<style scoped>\n    .dataframe tbody tr th:only-of-type {\n        vertical-align: middle;\n    }\n\n    .dataframe tbody tr th {\n        vertical-align: top;\n    }\n\n    .dataframe thead th {\n        text-align: right;\n    }\n</style>\n<table border=\"1\" class=\"dataframe\">\n  <thead>\n    <tr style=\"text-align: right;\">\n      <th></th>\n      <th>consumption</th>\n    </tr>\n    <tr>\n      <th>ds</th>\n      <th></th>\n    </tr>\n  </thead>\n  <tbody>\n    <tr>\n      <th>1999-01-01</th>\n      <td>6118.070460</td>\n    </tr>\n    <tr>\n      <th>1999-01-02</th>\n      <td>6356.287778</td>\n    </tr>\n    <tr>\n      <th>1999-01-03</th>\n      <td>6556.256215</td>\n    </tr>\n    <tr>\n      <th>1999-01-04</th>\n      <td>7777.891632</td>\n    </tr>\n    <tr>\n      <th>1999-01-05</th>\n      <td>8085.142431</td>\n    </tr>\n    <tr>\n      <th>...</th>\n      <td>...</td>\n    </tr>\n    <tr>\n      <th>2020-09-12</th>\n      <td>6913.052500</td>\n    </tr>\n    <tr>\n      <th>2020-09-13</th>\n      <td>6817.360833</td>\n    </tr>\n    <tr>\n      <th>2020-09-14</th>\n      <td>7132.939792</td>\n    </tr>\n    <tr>\n      <th>2020-09-15</th>\n      <td>7313.942083</td>\n    </tr>\n    <tr>\n      <th>2020-09-16</th>\n      <td>7168.716458</td>\n    </tr>\n  </tbody>\n</table>\n<p>7930 rows × 1 columns</p>\n</div>"
     },
     "metadata": {},
     "execution_count": 187
    }
   ],
   "source": [
    "df = df.rename(columns = {'date': 'ds', 'consumption': 'consumption'})\n",
    "\n",
    "# Group data by number of listings per date\n",
    "df_example = df.groupby(by = 'ds').mean()\n",
    "\n",
    "# Change index to datetime\n",
    "df_example.index = pd.to_datetime(df_example.index)\n",
    "\n",
    "# Sort the values\n",
    "df_example = df_example.sort_index(ascending = True)\n",
    "\n",
    "# Fill values with 0\n",
    "df_example = df_example.fillna(value = 0)\n",
    "\n",
    "df_example = df_example.head(-1)\n",
    "\n",
    "df_example"
   ]
  },
  {
   "cell_type": "code",
   "execution_count": 188,
   "metadata": {},
   "outputs": [
    {
     "output_type": "execute_result",
     "data": {
      "text/plain": "            consumption  max_temp  min_temp    avg  isHoliday\nds                                                           \n1999-01-01  6118.070460      25.7      20.9  23.30          1\n1999-01-02  6356.287778      28.3      21.0  24.65          0\n1999-01-03  6556.256215      29.8      19.8  24.80          0\n1999-01-04  7777.891632      30.9      21.5  26.20          0\n1999-01-05  8085.142431      31.1      23.5  27.30          0",
      "text/html": "<div>\n<style scoped>\n    .dataframe tbody tr th:only-of-type {\n        vertical-align: middle;\n    }\n\n    .dataframe tbody tr th {\n        vertical-align: top;\n    }\n\n    .dataframe thead th {\n        text-align: right;\n    }\n</style>\n<table border=\"1\" class=\"dataframe\">\n  <thead>\n    <tr style=\"text-align: right;\">\n      <th></th>\n      <th>consumption</th>\n      <th>max_temp</th>\n      <th>min_temp</th>\n      <th>avg</th>\n      <th>isHoliday</th>\n    </tr>\n    <tr>\n      <th>ds</th>\n      <th></th>\n      <th></th>\n      <th></th>\n      <th></th>\n      <th></th>\n    </tr>\n  </thead>\n  <tbody>\n    <tr>\n      <th>1999-01-01</th>\n      <td>6118.070460</td>\n      <td>25.7</td>\n      <td>20.9</td>\n      <td>23.30</td>\n      <td>1</td>\n    </tr>\n    <tr>\n      <th>1999-01-02</th>\n      <td>6356.287778</td>\n      <td>28.3</td>\n      <td>21.0</td>\n      <td>24.65</td>\n      <td>0</td>\n    </tr>\n    <tr>\n      <th>1999-01-03</th>\n      <td>6556.256215</td>\n      <td>29.8</td>\n      <td>19.8</td>\n      <td>24.80</td>\n      <td>0</td>\n    </tr>\n    <tr>\n      <th>1999-01-04</th>\n      <td>7777.891632</td>\n      <td>30.9</td>\n      <td>21.5</td>\n      <td>26.20</td>\n      <td>0</td>\n    </tr>\n    <tr>\n      <th>1999-01-05</th>\n      <td>8085.142431</td>\n      <td>31.1</td>\n      <td>23.5</td>\n      <td>27.30</td>\n      <td>0</td>\n    </tr>\n  </tbody>\n</table>\n</div>"
     },
     "metadata": {},
     "execution_count": 188
    }
   ],
   "source": [
    "dfmx['date'] = pd.to_datetime(dfmx[['Year', 'Month', 'Day']])\n",
    "dfmx = dfmx.rename(columns = {'Maximum temperature (Degree C)': 'max_temp'})\n",
    "df_max = dfmx.groupby(by = 'date').agg({'max_temp': 'sum'})\n",
    "max_mask = (df_max.index.date >= df_example.index[0]) & (df_max.index.date <= df_example.index[len(df_example)-1])\n",
    "\n",
    "dfmn['date'] = pd.to_datetime(dfmn[['Year', 'Month', 'Day']])\n",
    "dfmn = dfmn.rename(columns = {'Minimum temperature (Degree C)': 'min_temp'})\n",
    "df_min = dfmn.groupby(by = 'date').agg({'min_temp': 'sum'})\n",
    "min_mask = (df_min.index.date >= df_example.index[0]) & (df_min.index.date <= df_example.index[len(df_example)-1])\n",
    "\n",
    "df_example['max_temp'] = df_max.loc[max_mask]\n",
    "df_example['min_temp'] = df_min.loc[min_mask]\n",
    "df_example['avg'] = df_example[['max_temp', 'min_temp']].mean(axis=1)\n",
    "\n",
    "# Holiday added\n",
    "aus_holidays = holidays.CountryHoliday('AUS', prov='NSW')\n",
    "df_example['isHoliday'] = 0\n",
    "for i,j in enumerate(df_example.index):    \n",
    "    if j in aus_holidays:\n",
    "        df_example['isHoliday'][i] = 1\n",
    "    else:\n",
    "        df_example['isHoliday'][i] = 0\n",
    "\n",
    "df_example.head()"
   ]
  },
  {
   "cell_type": "code",
   "execution_count": 189,
   "metadata": {},
   "outputs": [],
   "source": [
    "df_example['day'] = df_example.index.day\n",
    "df_example['dayofweek'] = df_example.index.dayofweek\n",
    "df_example['dayofyear'] = df_example.index.dayofyear\n",
    "df_example['month'] = df_example.index.month\n",
    "df_example['weekofyear'] = df_example.index.weekofyear"
   ]
  },
  {
   "cell_type": "code",
   "execution_count": 190,
   "metadata": {},
   "outputs": [],
   "source": [
    "# df_example1=df_example[0:7670]\n",
    "# df_example2=df_example[7670:7930]"
   ]
  },
  {
   "cell_type": "code",
   "execution_count": 191,
   "metadata": {},
   "outputs": [
    {
     "output_type": "execute_result",
     "data": {
      "text/plain": "            consumption  max_temp  min_temp    avg  isHoliday  day  dayofweek  \\\nds                                                                              \n1999-01-01  6118.070460      25.7      20.9  23.30          1    1          4   \n1999-01-02  6356.287778      28.3      21.0  24.65          0    2          5   \n1999-01-03  6556.256215      29.8      19.8  24.80          0    3          6   \n1999-01-04  7777.891632      30.9      21.5  26.20          0    4          0   \n1999-01-05  8085.142431      31.1      23.5  27.30          0    5          1   \n\n            dayofyear  month  weekofyear  \nds                                        \n1999-01-01          1      1          53  \n1999-01-02          2      1          53  \n1999-01-03          3      1          53  \n1999-01-04          4      1           1  \n1999-01-05          5      1           1  ",
      "text/html": "<div>\n<style scoped>\n    .dataframe tbody tr th:only-of-type {\n        vertical-align: middle;\n    }\n\n    .dataframe tbody tr th {\n        vertical-align: top;\n    }\n\n    .dataframe thead th {\n        text-align: right;\n    }\n</style>\n<table border=\"1\" class=\"dataframe\">\n  <thead>\n    <tr style=\"text-align: right;\">\n      <th></th>\n      <th>consumption</th>\n      <th>max_temp</th>\n      <th>min_temp</th>\n      <th>avg</th>\n      <th>isHoliday</th>\n      <th>day</th>\n      <th>dayofweek</th>\n      <th>dayofyear</th>\n      <th>month</th>\n      <th>weekofyear</th>\n    </tr>\n    <tr>\n      <th>ds</th>\n      <th></th>\n      <th></th>\n      <th></th>\n      <th></th>\n      <th></th>\n      <th></th>\n      <th></th>\n      <th></th>\n      <th></th>\n      <th></th>\n    </tr>\n  </thead>\n  <tbody>\n    <tr>\n      <th>1999-01-01</th>\n      <td>6118.070460</td>\n      <td>25.7</td>\n      <td>20.9</td>\n      <td>23.30</td>\n      <td>1</td>\n      <td>1</td>\n      <td>4</td>\n      <td>1</td>\n      <td>1</td>\n      <td>53</td>\n    </tr>\n    <tr>\n      <th>1999-01-02</th>\n      <td>6356.287778</td>\n      <td>28.3</td>\n      <td>21.0</td>\n      <td>24.65</td>\n      <td>0</td>\n      <td>2</td>\n      <td>5</td>\n      <td>2</td>\n      <td>1</td>\n      <td>53</td>\n    </tr>\n    <tr>\n      <th>1999-01-03</th>\n      <td>6556.256215</td>\n      <td>29.8</td>\n      <td>19.8</td>\n      <td>24.80</td>\n      <td>0</td>\n      <td>3</td>\n      <td>6</td>\n      <td>3</td>\n      <td>1</td>\n      <td>53</td>\n    </tr>\n    <tr>\n      <th>1999-01-04</th>\n      <td>7777.891632</td>\n      <td>30.9</td>\n      <td>21.5</td>\n      <td>26.20</td>\n      <td>0</td>\n      <td>4</td>\n      <td>0</td>\n      <td>4</td>\n      <td>1</td>\n      <td>1</td>\n    </tr>\n    <tr>\n      <th>1999-01-05</th>\n      <td>8085.142431</td>\n      <td>31.1</td>\n      <td>23.5</td>\n      <td>27.30</td>\n      <td>0</td>\n      <td>5</td>\n      <td>1</td>\n      <td>5</td>\n      <td>1</td>\n      <td>1</td>\n    </tr>\n  </tbody>\n</table>\n</div>"
     },
     "metadata": {},
     "execution_count": 191
    }
   ],
   "source": [
    "# df_example1.head()\n",
    "# df_example2.head()\n",
    "df_example.head()"
   ]
  },
  {
   "cell_type": "code",
   "execution_count": 192,
   "metadata": {},
   "outputs": [],
   "source": [
    "# fig = plt.figure(figsize=(18, 14))\n",
    "# corr = df_example.corr()\n",
    "# c = plt.pcolor(corr)\n",
    "# plt.yticks(np.arange(0.5, len(corr.index), 1), corr.index)\n",
    "# plt.xticks(np.arange(0.5, len(corr.columns), 1), corr.columns)\n",
    "# fig.colorbar(c)"
   ]
  },
  {
   "cell_type": "code",
   "execution_count": 193,
   "metadata": {},
   "outputs": [],
   "source": [
    "# sns.pairplot(df_example, vars=['consumption','max_temp','min_temp','avg', 'isHoliday','day'\t,'dayofweek','dayofyear','month','weekofyear'])"
   ]
  },
  {
   "cell_type": "code",
   "execution_count": 194,
   "metadata": {},
   "outputs": [],
   "source": [
    "# scaler = MinMaxScaler()\n",
    "# scaler.fit(df_example)\n",
    "# df_example = df_example.astype(int)\n",
    "# matrixTransform=scaler.transform(df_example)\n",
    "# matrixTransform[0:3]"
   ]
  },
  {
   "cell_type": "code",
   "execution_count": 195,
   "metadata": {},
   "outputs": [],
   "source": [
    "# X = [item[1:10] for item in matrixTransform]\n",
    "# Y = [item[0] for item in matrixTransform]"
   ]
  },
  {
   "cell_type": "code",
   "execution_count": 196,
   "metadata": {
    "tags": []
   },
   "outputs": [],
   "source": [
    "df_example = df_example.astype(int)\n",
    "X = np.array(df_example[['max_temp','min_temp','avg', 'isHoliday','day','dayofweek','dayofyear','month','weekofyear']])\n",
    "Y = np.array(df_example[['consumption']])"
   ]
  },
  {
   "cell_type": "code",
   "execution_count": 197,
   "metadata": {},
   "outputs": [],
   "source": [
    "trnX,tesX, trnY,tesY = train_test_split(X,Y, train_size=0.8, random_state=111, shuffle=True)\n",
    "# trnX,valX,trnY,valY = train_test_split(trnX,trnY, train_size=0.8, random_state=111, shuffle=True)"
   ]
  },
  {
   "cell_type": "code",
   "execution_count": 198,
   "metadata": {},
   "outputs": [],
   "source": [
    "def evalutionMatrix(y_test,y_pred):\n",
    "    print('Mean Squared Error  : ' + str(mean_squared_error(tesY, y_pred)))\n",
    "    print('RMean Squared Error : ' + str(np.sqrt(mean_squared_error(tesY, y_pred))))\n",
    "    print('Mean Absolute Error : ' + str(mean_absolute_error(y_test,y_pred)))"
   ]
  },
  {
   "cell_type": "code",
   "execution_count": 199,
   "metadata": {
    "tags": []
   },
   "outputs": [
    {
     "output_type": "stream",
     "name": "stdout",
     "text": "Mean Squared Error  : 689950.2471036618\nRMean Squared Error : 830.6324380275922\nMean Absolute Error : 674.4346830479178\n"
    }
   ],
   "source": [
    "from sklearn.dummy import DummyRegressor\n",
    "clf = DummyRegressor(strategy= 'mean').fit(trnX,trnY)\n",
    "y_pred = clf.predict(tesX)\n",
    "evalutionMatrix(tesY, y_pred)"
   ]
  },
  {
   "source": [
    "# GridSearch Implimentation"
   ],
   "cell_type": "markdown",
   "metadata": {}
  },
  {
   "cell_type": "code",
   "execution_count": 214,
   "metadata": {
    "tags": []
   },
   "outputs": [
    {
     "output_type": "error",
     "ename": "KeyboardInterrupt",
     "evalue": "",
     "traceback": [
      "\u001b[0;31m---------------------------------------------------------------------------\u001b[0m",
      "\u001b[0;31mKeyboardInterrupt\u001b[0m                         Traceback (most recent call last)",
      "\u001b[0;32m&lt;ipython-input-214-cb2b0ae3965c&gt;\u001b[0m in \u001b[0;36m&lt;module&gt;\u001b[0;34m\u001b[0m\n\u001b[1;32m     16\u001b[0m \u001b[0msearch\u001b[0m \u001b[0;34m=\u001b[0m \u001b[0mRandomizedSearchCV\u001b[0m\u001b[0;34m(\u001b[0m\u001b[0mmodel\u001b[0m\u001b[0;34m,\u001b[0m \u001b[0mspace\u001b[0m\u001b[0;34m,\u001b[0m \u001b[0mn_iter\u001b[0m\u001b[0;34m=\u001b[0m\u001b[0;36m500\u001b[0m\u001b[0;34m,\u001b[0m \u001b[0mscoring\u001b[0m\u001b[0;34m=\u001b[0m\u001b[0;34m&#39;neg_mean_absolute_error&#39;\u001b[0m\u001b[0;34m,\u001b[0m \u001b[0mn_jobs\u001b[0m\u001b[0;34m=\u001b[0m\u001b[0;34m-\u001b[0m\u001b[0;36m1\u001b[0m\u001b[0;34m,\u001b[0m \u001b[0mcv\u001b[0m\u001b[0;34m=\u001b[0m\u001b[0mcv\u001b[0m\u001b[0;34m,\u001b[0m \u001b[0mrandom_state\u001b[0m\u001b[0;34m=\u001b[0m\u001b[0;36m1\u001b[0m\u001b[0;34m)\u001b[0m\u001b[0;34m\u001b[0m\u001b[0;34m\u001b[0m\u001b[0m\n\u001b[1;32m     17\u001b[0m \u001b[0;34m\u001b[0m\u001b[0m\n\u001b[0;32m---&gt; 18\u001b[0;31m \u001b[0mresult\u001b[0m \u001b[0;34m=\u001b[0m \u001b[0msearch\u001b[0m\u001b[0;34m.\u001b[0m\u001b[0mfit\u001b[0m\u001b[0;34m(\u001b[0m\u001b[0mX\u001b[0m\u001b[0;34m,\u001b[0m\u001b[0mY\u001b[0m\u001b[0;34m)\u001b[0m\u001b[0;34m\u001b[0m\u001b[0;34m\u001b[0m\u001b[0m\n\u001b[0m\u001b[1;32m     19\u001b[0m \u001b[0;31m# summarize result\u001b[0m\u001b[0;34m\u001b[0m\u001b[0;34m\u001b[0m\u001b[0;34m\u001b[0m\u001b[0m\n\u001b[1;32m     20\u001b[0m \u001b[0mprint\u001b[0m\u001b[0;34m(\u001b[0m\u001b[0;34m&#39;Best Score: %s&#39;\u001b[0m \u001b[0;34m%\u001b[0m \u001b[0mresult\u001b[0m\u001b[0;34m.\u001b[0m\u001b[0mbest_score_\u001b[0m\u001b[0;34m)\u001b[0m\u001b[0;34m\u001b[0m\u001b[0;34m\u001b[0m\u001b[0m\n",
      "\u001b[0;32m/Applications/anaconda3/envs/ml/lib/python3.6/site-packages/sklearn/model_selection/_search.py\u001b[0m in \u001b[0;36mfit\u001b[0;34m(self, X, y, groups, **fit_params)\u001b[0m\n\u001b[1;32m    708\u001b[0m                 \u001b[0;32mreturn\u001b[0m \u001b[0mresults\u001b[0m\u001b[0;34m\u001b[0m\u001b[0;34m\u001b[0m\u001b[0m\n\u001b[1;32m    709\u001b[0m \u001b[0;34m\u001b[0m\u001b[0m\n\u001b[0;32m--&gt; 710\u001b[0;31m             \u001b[0mself\u001b[0m\u001b[0;34m.\u001b[0m\u001b[0m_run_search\u001b[0m\u001b[0;34m(\u001b[0m\u001b[0mevaluate_candidates\u001b[0m\u001b[0;34m)\u001b[0m\u001b[0;34m\u001b[0m\u001b[0;34m\u001b[0m\u001b[0m\n\u001b[0m\u001b[1;32m    711\u001b[0m \u001b[0;34m\u001b[0m\u001b[0m\n\u001b[1;32m    712\u001b[0m         \u001b[0;31m# For multi-metric evaluation, store the best_index_, best_params_ and\u001b[0m\u001b[0;34m\u001b[0m\u001b[0;34m\u001b[0m\u001b[0;34m\u001b[0m\u001b[0m\n",
      "\u001b[0;32m/Applications/anaconda3/envs/ml/lib/python3.6/site-packages/sklearn/model_selection/_search.py\u001b[0m in \u001b[0;36m_run_search\u001b[0;34m(self, evaluate_candidates)\u001b[0m\n\u001b[1;32m   1482\u001b[0m         evaluate_candidates(ParameterSampler(\n\u001b[1;32m   1483\u001b[0m             \u001b[0mself\u001b[0m\u001b[0;34m.\u001b[0m\u001b[0mparam_distributions\u001b[0m\u001b[0;34m,\u001b[0m \u001b[0mself\u001b[0m\u001b[0;34m.\u001b[0m\u001b[0mn_iter\u001b[0m\u001b[0;34m,\u001b[0m\u001b[0;34m\u001b[0m\u001b[0;34m\u001b[0m\u001b[0m\n\u001b[0;32m-&gt; 1484\u001b[0;31m             random_state=self.random_state))\n\u001b[0m",
      "\u001b[0;32m/Applications/anaconda3/envs/ml/lib/python3.6/site-packages/sklearn/model_selection/_search.py\u001b[0m in \u001b[0;36mevaluate_candidates\u001b[0;34m(candidate_params)\u001b[0m\n\u001b[1;32m    687\u001b[0m                                \u001b[0;32mfor\u001b[0m \u001b[0mparameters\u001b[0m\u001b[0;34m,\u001b[0m \u001b[0;34m(\u001b[0m\u001b[0mtrain\u001b[0m\u001b[0;34m,\u001b[0m \u001b[0mtest\u001b[0m\u001b[0;34m)\u001b[0m\u001b[0;34m\u001b[0m\u001b[0;34m\u001b[0m\u001b[0m\n\u001b[1;32m    688\u001b[0m                                in product(candidate_params,\n\u001b[0;32m--&gt; 689\u001b[0;31m                                           cv.split(X, y, groups)))\n\u001b[0m\u001b[1;32m    690\u001b[0m \u001b[0;34m\u001b[0m\u001b[0m\n\u001b[1;32m    691\u001b[0m                 \u001b[0;32mif\u001b[0m \u001b[0mlen\u001b[0m\u001b[0;34m(\u001b[0m\u001b[0mout\u001b[0m\u001b[0;34m)\u001b[0m \u001b[0;34m&lt;\u001b[0m \u001b[0;36m1\u001b[0m\u001b[0;34m:\u001b[0m\u001b[0;34m\u001b[0m\u001b[0;34m\u001b[0m\u001b[0m\n",
      "\u001b[0;32m/Applications/anaconda3/envs/ml/lib/python3.6/site-packages/joblib/parallel.py\u001b[0m in \u001b[0;36m__call__\u001b[0;34m(self, iterable)\u001b[0m\n\u001b[1;32m   1015\u001b[0m \u001b[0;34m\u001b[0m\u001b[0m\n\u001b[1;32m   1016\u001b[0m             \u001b[0;32mwith\u001b[0m \u001b[0mself\u001b[0m\u001b[0;34m.\u001b[0m\u001b[0m_backend\u001b[0m\u001b[0;34m.\u001b[0m\u001b[0mretrieval_context\u001b[0m\u001b[0;34m(\u001b[0m\u001b[0;34m)\u001b[0m\u001b[0;34m:\u001b[0m\u001b[0;34m\u001b[0m\u001b[0;34m\u001b[0m\u001b[0m\n\u001b[0;32m-&gt; 1017\u001b[0;31m                 \u001b[0mself\u001b[0m\u001b[0;34m.\u001b[0m\u001b[0mretrieve\u001b[0m\u001b[0;34m(\u001b[0m\u001b[0;34m)\u001b[0m\u001b[0;34m\u001b[0m\u001b[0;34m\u001b[0m\u001b[0m\n\u001b[0m\u001b[1;32m   1018\u001b[0m             \u001b[0;31m# Make sure that we get a last message telling us we are done\u001b[0m\u001b[0;34m\u001b[0m\u001b[0;34m\u001b[0m\u001b[0;34m\u001b[0m\u001b[0m\n\u001b[1;32m   1019\u001b[0m             \u001b[0melapsed_time\u001b[0m \u001b[0;34m=\u001b[0m \u001b[0mtime\u001b[0m\u001b[0;34m.\u001b[0m\u001b[0mtime\u001b[0m\u001b[0;34m(\u001b[0m\u001b[0;34m)\u001b[0m \u001b[0;34m-\u001b[0m \u001b[0mself\u001b[0m\u001b[0;34m.\u001b[0m\u001b[0m_start_time\u001b[0m\u001b[0;34m\u001b[0m\u001b[0;34m\u001b[0m\u001b[0m\n",
      "\u001b[0;32m/Applications/anaconda3/envs/ml/lib/python3.6/site-packages/joblib/parallel.py\u001b[0m in \u001b[0;36mretrieve\u001b[0;34m(self)\u001b[0m\n\u001b[1;32m    907\u001b[0m             \u001b[0;32mtry\u001b[0m\u001b[0;34m:\u001b[0m\u001b[0;34m\u001b[0m\u001b[0;34m\u001b[0m\u001b[0m\n\u001b[1;32m    908\u001b[0m                 \u001b[0;32mif\u001b[0m \u001b[0mgetattr\u001b[0m\u001b[0;34m(\u001b[0m\u001b[0mself\u001b[0m\u001b[0;34m.\u001b[0m\u001b[0m_backend\u001b[0m\u001b[0;34m,\u001b[0m \u001b[0;34m&#39;supports_timeout&#39;\u001b[0m\u001b[0;34m,\u001b[0m \u001b[0;32mFalse\u001b[0m\u001b[0;34m)\u001b[0m\u001b[0;34m:\u001b[0m\u001b[0;34m\u001b[0m\u001b[0;34m\u001b[0m\u001b[0m\n\u001b[0;32m--&gt; 909\u001b[0;31m                     \u001b[0mself\u001b[0m\u001b[0;34m.\u001b[0m\u001b[0m_output\u001b[0m\u001b[0;34m.\u001b[0m\u001b[0mextend\u001b[0m\u001b[0;34m(\u001b[0m\u001b[0mjob\u001b[0m\u001b[0;34m.\u001b[0m\u001b[0mget\u001b[0m\u001b[0;34m(\u001b[0m\u001b[0mtimeout\u001b[0m\u001b[0;34m=\u001b[0m\u001b[0mself\u001b[0m\u001b[0;34m.\u001b[0m\u001b[0mtimeout\u001b[0m\u001b[0;34m)\u001b[0m\u001b[0;34m)\u001b[0m\u001b[0;34m\u001b[0m\u001b[0;34m\u001b[0m\u001b[0m\n\u001b[0m\u001b[1;32m    910\u001b[0m                 \u001b[0;32melse\u001b[0m\u001b[0;34m:\u001b[0m\u001b[0;34m\u001b[0m\u001b[0;34m\u001b[0m\u001b[0m\n\u001b[1;32m    911\u001b[0m                     \u001b[0mself\u001b[0m\u001b[0;34m.\u001b[0m\u001b[0m_output\u001b[0m\u001b[0;34m.\u001b[0m\u001b[0mextend\u001b[0m\u001b[0;34m(\u001b[0m\u001b[0mjob\u001b[0m\u001b[0;34m.\u001b[0m\u001b[0mget\u001b[0m\u001b[0;34m(\u001b[0m\u001b[0;34m)\u001b[0m\u001b[0;34m)\u001b[0m\u001b[0;34m\u001b[0m\u001b[0;34m\u001b[0m\u001b[0m\n",
      "\u001b[0;32m/Applications/anaconda3/envs/ml/lib/python3.6/site-packages/joblib/_parallel_backends.py\u001b[0m in \u001b[0;36mwrap_future_result\u001b[0;34m(future, timeout)\u001b[0m\n\u001b[1;32m    560\u001b[0m         AsyncResults.get from multiprocessing.&quot;&quot;&quot;\n\u001b[1;32m    561\u001b[0m         \u001b[0;32mtry\u001b[0m\u001b[0;34m:\u001b[0m\u001b[0;34m\u001b[0m\u001b[0;34m\u001b[0m\u001b[0m\n\u001b[0;32m--&gt; 562\u001b[0;31m             \u001b[0;32mreturn\u001b[0m \u001b[0mfuture\u001b[0m\u001b[0;34m.\u001b[0m\u001b[0mresult\u001b[0m\u001b[0;34m(\u001b[0m\u001b[0mtimeout\u001b[0m\u001b[0;34m=\u001b[0m\u001b[0mtimeout\u001b[0m\u001b[0;34m)\u001b[0m\u001b[0;34m\u001b[0m\u001b[0;34m\u001b[0m\u001b[0m\n\u001b[0m\u001b[1;32m    563\u001b[0m         \u001b[0;32mexcept\u001b[0m \u001b[0mLokyTimeoutError\u001b[0m\u001b[0;34m:\u001b[0m\u001b[0;34m\u001b[0m\u001b[0;34m\u001b[0m\u001b[0m\n\u001b[1;32m    564\u001b[0m             \u001b[0;32mraise\u001b[0m \u001b[0mTimeoutError\u001b[0m\u001b[0;34m(\u001b[0m\u001b[0;34m)\u001b[0m\u001b[0;34m\u001b[0m\u001b[0;34m\u001b[0m\u001b[0m\n",
      "\u001b[0;32m/Applications/anaconda3/envs/ml/lib/python3.6/concurrent/futures/_base.py\u001b[0m in \u001b[0;36mresult\u001b[0;34m(self, timeout)\u001b[0m\n\u001b[1;32m    425\u001b[0m                 \u001b[0;32mreturn\u001b[0m \u001b[0mself\u001b[0m\u001b[0;34m.\u001b[0m\u001b[0m__get_result\u001b[0m\u001b[0;34m(\u001b[0m\u001b[0;34m)\u001b[0m\u001b[0;34m\u001b[0m\u001b[0;34m\u001b[0m\u001b[0m\n\u001b[1;32m    426\u001b[0m \u001b[0;34m\u001b[0m\u001b[0m\n\u001b[0;32m--&gt; 427\u001b[0;31m             \u001b[0mself\u001b[0m\u001b[0;34m.\u001b[0m\u001b[0m_condition\u001b[0m\u001b[0;34m.\u001b[0m\u001b[0mwait\u001b[0m\u001b[0;34m(\u001b[0m\u001b[0mtimeout\u001b[0m\u001b[0;34m)\u001b[0m\u001b[0;34m\u001b[0m\u001b[0;34m\u001b[0m\u001b[0m\n\u001b[0m\u001b[1;32m    428\u001b[0m \u001b[0;34m\u001b[0m\u001b[0m\n\u001b[1;32m    429\u001b[0m             \u001b[0;32mif\u001b[0m \u001b[0mself\u001b[0m\u001b[0;34m.\u001b[0m\u001b[0m_state\u001b[0m \u001b[0;32min\u001b[0m \u001b[0;34m[\u001b[0m\u001b[0mCANCELLED\u001b[0m\u001b[0;34m,\u001b[0m \u001b[0mCANCELLED_AND_NOTIFIED\u001b[0m\u001b[0;34m]\u001b[0m\u001b[0;34m:\u001b[0m\u001b[0;34m\u001b[0m\u001b[0;34m\u001b[0m\u001b[0m\n",
      "\u001b[0;32m/Applications/anaconda3/envs/ml/lib/python3.6/threading.py\u001b[0m in \u001b[0;36mwait\u001b[0;34m(self, timeout)\u001b[0m\n\u001b[1;32m    293\u001b[0m         \u001b[0;32mtry\u001b[0m\u001b[0;34m:\u001b[0m    \u001b[0;31m# restore state no matter what (e.g., KeyboardInterrupt)\u001b[0m\u001b[0;34m\u001b[0m\u001b[0;34m\u001b[0m\u001b[0m\n\u001b[1;32m    294\u001b[0m             \u001b[0;32mif\u001b[0m \u001b[0mtimeout\u001b[0m \u001b[0;32mis\u001b[0m \u001b[0;32mNone\u001b[0m\u001b[0;34m:\u001b[0m\u001b[0;34m\u001b[0m\u001b[0;34m\u001b[0m\u001b[0m\n\u001b[0;32m--&gt; 295\u001b[0;31m                 \u001b[0mwaiter\u001b[0m\u001b[0;34m.\u001b[0m\u001b[0macquire\u001b[0m\u001b[0;34m(\u001b[0m\u001b[0;34m)\u001b[0m\u001b[0;34m\u001b[0m\u001b[0;34m\u001b[0m\u001b[0m\n\u001b[0m\u001b[1;32m    296\u001b[0m                 \u001b[0mgotit\u001b[0m \u001b[0;34m=\u001b[0m \u001b[0;32mTrue\u001b[0m\u001b[0;34m\u001b[0m\u001b[0;34m\u001b[0m\u001b[0m\n\u001b[1;32m    297\u001b[0m             \u001b[0;32melse\u001b[0m\u001b[0;34m:\u001b[0m\u001b[0;34m\u001b[0m\u001b[0;34m\u001b[0m\u001b[0m\n",
      "\u001b[0;31mKeyboardInterrupt\u001b[0m: "
     ]
    }
   ],
   "source": [
    "# define evaluation\n",
    "cv = RepeatedKFold(n_splits=5, n_repeats=3, random_state=1)\n",
    "\n",
    "#SVR\n",
    "model = svm.SVR()\n",
    "\n",
    "# define search space\n",
    "space = dict()\n",
    "space['kernel'] = ['linear', 'poly', 'rbf', 'sigmoid']\n",
    "space['degree'] = [3,5]\n",
    "space['gamma'] = ['scale','auto']\n",
    "space['coef0'] = [0.0]\n",
    "space['tol'] = [0.001]\n",
    "space['C'] = [1,50,100,500,1000]\n",
    "space['epsilon'] = [0.1]\n",
    "space['shrinking'] = [True]\n",
    "space['cache_size'] = [200]\n",
    "space['verbose'] = [False]\n",
    "space['max_iter'] = [-1]\n",
    "\n",
    "# define search\n",
    "search = RandomizedSearchCV(model, space, n_iter=500, scoring='neg_mean_absolute_error', n_jobs=-1, cv=cv, random_state=1)\n",
    "\n",
    "result = search.fit(X,Y)\n",
    "# summarize result\n",
    "print('Best Score: %s' % result.best_score_)\n",
    "print('Best Hyperparameters: %s' % result.best_params_)"
   ]
  },
  {
   "cell_type": "code",
   "execution_count": null,
   "metadata": {},
   "outputs": [],
   "source": [
    "from sklearn.ensemble import RandomForestRegressor\n",
    "\n",
    "#RandomForestRegressor\n",
    "model = RandomForestRegressor()\n",
    "\n",
    "# define search space\n",
    "space = dict()\n",
    "space['n_estimators'] = [10,50,100,200]\n",
    "space['criterion'] = ['mse','mae']\n",
    "space['random_state'] = [173]\n",
    "space['coef0'] = [0.0]\n",
    "space['tol'] = [0.001]\n",
    "space['C'] = [1,50,100,500,1000]\n",
    "space['epsilon'] = [0.1]\n",
    "space['shrinking'] = [True]\n",
    "space['cache_size'] = [200]\n",
    "space['verbose'] = [False]\n",
    "space['max_iter'] = [-1]\n",
    "\n",
    "# define search\n",
    "search = RandomizedSearchCV(model, space, n_iter=500, scoring='neg_mean_absolute_error', n_jobs=-1, cv=cv, random_state=1)\n",
    "\n",
    "result = search.fit(X,Y)\n",
    "# summarize result\n",
    "print('Best Score: %s' % result.best_score_)\n",
    "print('Best Hyperparameters: %s' % result.best_params_)"
   ]
  },
  {
   "cell_type": "code",
   "execution_count": null,
   "metadata": {},
   "outputs": [],
   "source": []
  }
 ]
}