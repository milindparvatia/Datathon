{
 "metadata": {
  "language_info": {
   "codemirror_mode": {
    "name": "ipython",
    "version": 3
   },
   "file_extension": ".py",
   "mimetype": "text/x-python",
   "name": "python",
   "nbconvert_exporter": "python",
   "pygments_lexer": "ipython3",
   "version": "3.6.10-final"
  },
  "orig_nbformat": 2,
  "kernelspec": {
   "name": "Python 3.6.10 64-bit ('ml': conda)",
   "display_name": "Python 3.6.10 64-bit ('ml': conda)",
   "metadata": {
    "interpreter": {
     "hash": "8aa8f1568b76895711a2d690aab17e3f48ee6e4caedd5072180724dcc169c1ad"
    }
   }
  }
 },
 "nbformat": 4,
 "nbformat_minor": 2,
 "cells": [
  {
   "cell_type": "code",
   "execution_count": 2,
   "metadata": {},
   "outputs": [],
   "source": [
    "# import packages\n",
    "import numpy as np\n",
    "import pandas as pd\n",
    "import matplotlib.pyplot as plt\n",
    "%matplotlib inline\n",
    "from IPython.display import display, HTML, display_html\n",
    "import seaborn as sns\n",
    "import datetime as dt\n",
    "import tensorflow as tf\n",
    "import IPython\n",
    "import holidays\n",
    "from datetime import date\n",
    "import datetime\n",
    "import calendar\n",
    "from sklearn import svm\n",
    "from sklearn.pipeline import make_pipeline\n",
    "from sklearn.preprocessing import StandardScaler\n",
    "from sklearn.preprocessing import MinMaxScaler\n",
    "from sklearn.model_selection import train_test_split, RepeatedStratifiedKFold\n",
    "from backports.datetime_fromisoformat import MonkeyPatch\n",
    "from sklearn.metrics import mean_squared_error,mean_absolute_error\n",
    "\n",
    "pd.set_option('display.max_columns', 100)\n",
    "pd.set_option('display.max_rows', 100)\n",
    "\n",
    "from datetime import timezone, datetime, timedelta\n",
    "# random search linear regression model on the auto insurance dataset\n",
    "from scipy.stats import loguniform\n",
    "from sklearn.model_selection import RepeatedKFold\n",
    "from sklearn.model_selection import RandomizedSearchCV"
   ]
  },
  {
   "cell_type": "code",
   "execution_count": 3,
   "metadata": {},
   "outputs": [
    {
     "output_type": "execute_result",
     "data": {
      "text/plain": [
       "   Unnamed: 0  Unnamed: 0.1 b'REGION       SETTLEMENTDATE  TOTALDEMAND    RRP  \\\n",
       "0           0             1    nNSW1  2016/12/01 00:30:00      7100.66  52.97   \n",
       "1           1             2    nNSW1  2016/12/01 01:00:00      6818.00  42.08   \n",
       "2           2             3    nNSW1  2016/12/01 01:30:00      6538.58  50.16   \n",
       "3           3             4    nNSW1  2016/12/01 02:00:00      6367.53  47.64   \n",
       "4           4             5    nNSW1  2016/12/01 02:30:00      6213.00  45.50   \n",
       "\n",
       "  PERIODTYPE  \n",
       "0      TRADE  \n",
       "1      TRADE  \n",
       "2      TRADE  \n",
       "3      TRADE  \n",
       "4      TRADE  "
      ],
      "text/html": "<div>\n<style scoped>\n    .dataframe tbody tr th:only-of-type {\n        vertical-align: middle;\n    }\n\n    .dataframe tbody tr th {\n        vertical-align: top;\n    }\n\n    .dataframe thead th {\n        text-align: right;\n    }\n</style>\n<table border=\"1\" class=\"dataframe\">\n  <thead>\n    <tr style=\"text-align: right;\">\n      <th></th>\n      <th>Unnamed: 0</th>\n      <th>Unnamed: 0.1</th>\n      <th>b'REGION</th>\n      <th>SETTLEMENTDATE</th>\n      <th>TOTALDEMAND</th>\n      <th>RRP</th>\n      <th>PERIODTYPE</th>\n    </tr>\n  </thead>\n  <tbody>\n    <tr>\n      <th>0</th>\n      <td>0</td>\n      <td>1</td>\n      <td>nNSW1</td>\n      <td>2016/12/01 00:30:00</td>\n      <td>7100.66</td>\n      <td>52.97</td>\n      <td>TRADE</td>\n    </tr>\n    <tr>\n      <th>1</th>\n      <td>1</td>\n      <td>2</td>\n      <td>nNSW1</td>\n      <td>2016/12/01 01:00:00</td>\n      <td>6818.00</td>\n      <td>42.08</td>\n      <td>TRADE</td>\n    </tr>\n    <tr>\n      <th>2</th>\n      <td>2</td>\n      <td>3</td>\n      <td>nNSW1</td>\n      <td>2016/12/01 01:30:00</td>\n      <td>6538.58</td>\n      <td>50.16</td>\n      <td>TRADE</td>\n    </tr>\n    <tr>\n      <th>3</th>\n      <td>3</td>\n      <td>4</td>\n      <td>nNSW1</td>\n      <td>2016/12/01 02:00:00</td>\n      <td>6367.53</td>\n      <td>47.64</td>\n      <td>TRADE</td>\n    </tr>\n    <tr>\n      <th>4</th>\n      <td>4</td>\n      <td>5</td>\n      <td>nNSW1</td>\n      <td>2016/12/01 02:30:00</td>\n      <td>6213.00</td>\n      <td>45.50</td>\n      <td>TRADE</td>\n    </tr>\n  </tbody>\n</table>\n</div>"
     },
     "metadata": {},
     "execution_count": 3
    }
   ],
   "source": [
    "df = pd.read_csv('main_data/NSW.csv')\n",
    "dfmx = pd.read_csv('main_data/NSW_MAX_TEMP/NSW_Data.csv')\n",
    "dfmn = pd.read_csv('main_data/NSW_MIN_TEMP/NSW_Data.csv')\n",
    "df_temp = pd.read_csv('weather.csv')\n",
    "df.head()"
   ]
  },
  {
   "cell_type": "code",
   "execution_count": 4,
   "metadata": {},
   "outputs": [
    {
     "output_type": "execute_result",
     "data": {
      "text/plain": [
       "                              dt  timezone       lat         lon   temp  \\\n",
       "dt_iso                                                                    \n",
       "1990-01-01 11:00:00  631152000.0   39600.0 -33.86882  151.209295  27.51   \n",
       "1990-01-01 12:00:00  631155600.0   39600.0 -33.86882  151.209295  27.84   \n",
       "1990-01-01 13:00:00  631159200.0   39600.0 -33.86882  151.209295  27.82   \n",
       "1990-01-01 14:00:00  631162800.0   39600.0 -33.86882  151.209295  27.50   \n",
       "1990-01-01 15:00:00  631166400.0   39600.0 -33.86882  151.209295  27.56   \n",
       "\n",
       "                     feels_like  temp_min  temp_max  pressure  sea_level  \\\n",
       "dt_iso                                                                     \n",
       "1990-01-01 11:00:00       27.99     20.92      32.0    1013.0        NaN   \n",
       "1990-01-01 12:00:00       27.69     20.79      32.0    1013.0        NaN   \n",
       "1990-01-01 13:00:00       27.78     20.78      31.8    1012.0        NaN   \n",
       "1990-01-01 14:00:00       24.96     21.03      31.0    1011.0        NaN   \n",
       "1990-01-01 15:00:00       23.64     21.35      31.0    1010.0        NaN   \n",
       "\n",
       "                     grnd_level  humidity  wind_speed  wind_deg  rain_1h  \\\n",
       "dt_iso                                                                     \n",
       "1990-01-01 11:00:00         NaN      40.0         0.5     350.0      NaN   \n",
       "1990-01-01 12:00:00         NaN      46.0         2.6      30.0      NaN   \n",
       "1990-01-01 13:00:00         NaN      47.0         2.6      30.0      NaN   \n",
       "1990-01-01 14:00:00         NaN      48.0         6.2      60.0      NaN   \n",
       "1990-01-01 15:00:00         NaN      48.0         8.2      40.0      NaN   \n",
       "\n",
       "                     rain_3h  snow_1h  snow_3h  clouds_all  weather_id  \n",
       "dt_iso                                                                  \n",
       "1990-01-01 11:00:00      NaN      NaN      NaN         3.0       800.0  \n",
       "1990-01-01 12:00:00      NaN      NaN      NaN        10.0       800.0  \n",
       "1990-01-01 13:00:00      NaN      NaN      NaN        20.0       801.0  \n",
       "1990-01-01 14:00:00      NaN      NaN      NaN        19.0       801.0  \n",
       "1990-01-01 15:00:00      NaN      NaN      NaN        28.0       802.0  "
      ],
      "text/html": "<div>\n<style scoped>\n    .dataframe tbody tr th:only-of-type {\n        vertical-align: middle;\n    }\n\n    .dataframe tbody tr th {\n        vertical-align: top;\n    }\n\n    .dataframe thead th {\n        text-align: right;\n    }\n</style>\n<table border=\"1\" class=\"dataframe\">\n  <thead>\n    <tr style=\"text-align: right;\">\n      <th></th>\n      <th>dt</th>\n      <th>timezone</th>\n      <th>lat</th>\n      <th>lon</th>\n      <th>temp</th>\n      <th>feels_like</th>\n      <th>temp_min</th>\n      <th>temp_max</th>\n      <th>pressure</th>\n      <th>sea_level</th>\n      <th>grnd_level</th>\n      <th>humidity</th>\n      <th>wind_speed</th>\n      <th>wind_deg</th>\n      <th>rain_1h</th>\n      <th>rain_3h</th>\n      <th>snow_1h</th>\n      <th>snow_3h</th>\n      <th>clouds_all</th>\n      <th>weather_id</th>\n    </tr>\n    <tr>\n      <th>dt_iso</th>\n      <th></th>\n      <th></th>\n      <th></th>\n      <th></th>\n      <th></th>\n      <th></th>\n      <th></th>\n      <th></th>\n      <th></th>\n      <th></th>\n      <th></th>\n      <th></th>\n      <th></th>\n      <th></th>\n      <th></th>\n      <th></th>\n      <th></th>\n      <th></th>\n      <th></th>\n      <th></th>\n    </tr>\n  </thead>\n  <tbody>\n    <tr>\n      <th>1990-01-01 11:00:00</th>\n      <td>631152000.0</td>\n      <td>39600.0</td>\n      <td>-33.86882</td>\n      <td>151.209295</td>\n      <td>27.51</td>\n      <td>27.99</td>\n      <td>20.92</td>\n      <td>32.0</td>\n      <td>1013.0</td>\n      <td>NaN</td>\n      <td>NaN</td>\n      <td>40.0</td>\n      <td>0.5</td>\n      <td>350.0</td>\n      <td>NaN</td>\n      <td>NaN</td>\n      <td>NaN</td>\n      <td>NaN</td>\n      <td>3.0</td>\n      <td>800.0</td>\n    </tr>\n    <tr>\n      <th>1990-01-01 12:00:00</th>\n      <td>631155600.0</td>\n      <td>39600.0</td>\n      <td>-33.86882</td>\n      <td>151.209295</td>\n      <td>27.84</td>\n      <td>27.69</td>\n      <td>20.79</td>\n      <td>32.0</td>\n      <td>1013.0</td>\n      <td>NaN</td>\n      <td>NaN</td>\n      <td>46.0</td>\n      <td>2.6</td>\n      <td>30.0</td>\n      <td>NaN</td>\n      <td>NaN</td>\n      <td>NaN</td>\n      <td>NaN</td>\n      <td>10.0</td>\n      <td>800.0</td>\n    </tr>\n    <tr>\n      <th>1990-01-01 13:00:00</th>\n      <td>631159200.0</td>\n      <td>39600.0</td>\n      <td>-33.86882</td>\n      <td>151.209295</td>\n      <td>27.82</td>\n      <td>27.78</td>\n      <td>20.78</td>\n      <td>31.8</td>\n      <td>1012.0</td>\n      <td>NaN</td>\n      <td>NaN</td>\n      <td>47.0</td>\n      <td>2.6</td>\n      <td>30.0</td>\n      <td>NaN</td>\n      <td>NaN</td>\n      <td>NaN</td>\n      <td>NaN</td>\n      <td>20.0</td>\n      <td>801.0</td>\n    </tr>\n    <tr>\n      <th>1990-01-01 14:00:00</th>\n      <td>631162800.0</td>\n      <td>39600.0</td>\n      <td>-33.86882</td>\n      <td>151.209295</td>\n      <td>27.50</td>\n      <td>24.96</td>\n      <td>21.03</td>\n      <td>31.0</td>\n      <td>1011.0</td>\n      <td>NaN</td>\n      <td>NaN</td>\n      <td>48.0</td>\n      <td>6.2</td>\n      <td>60.0</td>\n      <td>NaN</td>\n      <td>NaN</td>\n      <td>NaN</td>\n      <td>NaN</td>\n      <td>19.0</td>\n      <td>801.0</td>\n    </tr>\n    <tr>\n      <th>1990-01-01 15:00:00</th>\n      <td>631166400.0</td>\n      <td>39600.0</td>\n      <td>-33.86882</td>\n      <td>151.209295</td>\n      <td>27.56</td>\n      <td>23.64</td>\n      <td>21.35</td>\n      <td>31.0</td>\n      <td>1010.0</td>\n      <td>NaN</td>\n      <td>NaN</td>\n      <td>48.0</td>\n      <td>8.2</td>\n      <td>40.0</td>\n      <td>NaN</td>\n      <td>NaN</td>\n      <td>NaN</td>\n      <td>NaN</td>\n      <td>28.0</td>\n      <td>802.0</td>\n    </tr>\n  </tbody>\n</table>\n</div>"
     },
     "metadata": {},
     "execution_count": 4
    }
   ],
   "source": [
    "df_temp[['dt_iso']] = pd.to_datetime(df_temp['dt_iso'], cache=True, exact=True, format='%Y-%m-%d %H:%M:%S %z UTC', utc=True)\n",
    "df_temp = df_temp.groupby(by='dt_iso').mean()\n",
    "df_temp.index = df_temp.index.tz_convert('Australia/Sydney')\n",
    "df_temp.index = df_temp.index.strftime('%Y-%m-%d %H:%M:%S')\n",
    "df_temp.head()"
   ]
  },
  {
   "cell_type": "code",
   "execution_count": 5,
   "metadata": {},
   "outputs": [
    {
     "output_type": "execute_result",
     "data": {
      "text/plain": [
       "            SETTLEMENTDATE  TOTALDEMAND    RRP\n",
       "201543 1999-01-01 00:30:00   6820.56000  27.64\n",
       "201544 1999-01-01 01:00:00   6421.34833  26.64\n",
       "201545 1999-01-01 01:30:00   5991.45000  25.81\n",
       "201546 1999-01-01 02:00:00   5663.07333  19.94\n",
       "201547 1999-01-01 02:30:00   5384.04667  19.48"
      ],
      "text/html": "<div>\n<style scoped>\n    .dataframe tbody tr th:only-of-type {\n        vertical-align: middle;\n    }\n\n    .dataframe tbody tr th {\n        vertical-align: top;\n    }\n\n    .dataframe thead th {\n        text-align: right;\n    }\n</style>\n<table border=\"1\" class=\"dataframe\">\n  <thead>\n    <tr style=\"text-align: right;\">\n      <th></th>\n      <th>SETTLEMENTDATE</th>\n      <th>TOTALDEMAND</th>\n      <th>RRP</th>\n    </tr>\n  </thead>\n  <tbody>\n    <tr>\n      <th>201543</th>\n      <td>1999-01-01 00:30:00</td>\n      <td>6820.56000</td>\n      <td>27.64</td>\n    </tr>\n    <tr>\n      <th>201544</th>\n      <td>1999-01-01 01:00:00</td>\n      <td>6421.34833</td>\n      <td>26.64</td>\n    </tr>\n    <tr>\n      <th>201545</th>\n      <td>1999-01-01 01:30:00</td>\n      <td>5991.45000</td>\n      <td>25.81</td>\n    </tr>\n    <tr>\n      <th>201546</th>\n      <td>1999-01-01 02:00:00</td>\n      <td>5663.07333</td>\n      <td>19.94</td>\n    </tr>\n    <tr>\n      <th>201547</th>\n      <td>1999-01-01 02:30:00</td>\n      <td>5384.04667</td>\n      <td>19.48</td>\n    </tr>\n  </tbody>\n</table>\n</div>"
     },
     "metadata": {},
     "execution_count": 5
    }
   ],
   "source": [
    "df = df[['SETTLEMENTDATE','TOTALDEMAND','RRP']]\n",
    "df[['SETTLEMENTDATE']] = pd.to_datetime(df['SETTLEMENTDATE'], exact=True, cache=True, format='%Y-%m-%d %H:%M:%S')\n",
    "df = df.sort_values(by='SETTLEMENTDATE')\n",
    "df.head()"
   ]
  },
  {
   "cell_type": "code",
   "execution_count": 6,
   "metadata": {},
   "outputs": [
    {
     "output_type": "execute_result",
     "data": {
      "text/plain": [
       "                     TOTALDEMAND    RRP\n",
       "SETTLEMENTDATE                         \n",
       "1999-01-01 01:00:00   6421.34833  26.64\n",
       "1999-01-01 02:00:00   5663.07333  19.94\n",
       "1999-01-01 03:00:00   5199.31500  15.13\n",
       "1999-01-01 04:00:00   5008.23667  14.19\n",
       "1999-01-01 05:00:00   5022.93000  12.41\n",
       "...                          ...    ...\n",
       "2020-09-16 20:00:00   8394.08000  57.47\n",
       "2020-09-16 21:00:00   7938.99000  55.13\n",
       "2020-09-16 22:00:00   7541.11000  38.92\n",
       "2020-09-16 23:00:00   7370.46000  38.08\n",
       "2020-09-17 00:00:00   7285.85000  39.40\n",
       "\n",
       "[190320 rows x 2 columns]"
      ],
      "text/html": "<div>\n<style scoped>\n    .dataframe tbody tr th:only-of-type {\n        vertical-align: middle;\n    }\n\n    .dataframe tbody tr th {\n        vertical-align: top;\n    }\n\n    .dataframe thead th {\n        text-align: right;\n    }\n</style>\n<table border=\"1\" class=\"dataframe\">\n  <thead>\n    <tr style=\"text-align: right;\">\n      <th></th>\n      <th>TOTALDEMAND</th>\n      <th>RRP</th>\n    </tr>\n    <tr>\n      <th>SETTLEMENTDATE</th>\n      <th></th>\n      <th></th>\n    </tr>\n  </thead>\n  <tbody>\n    <tr>\n      <th>1999-01-01 01:00:00</th>\n      <td>6421.34833</td>\n      <td>26.64</td>\n    </tr>\n    <tr>\n      <th>1999-01-01 02:00:00</th>\n      <td>5663.07333</td>\n      <td>19.94</td>\n    </tr>\n    <tr>\n      <th>1999-01-01 03:00:00</th>\n      <td>5199.31500</td>\n      <td>15.13</td>\n    </tr>\n    <tr>\n      <th>1999-01-01 04:00:00</th>\n      <td>5008.23667</td>\n      <td>14.19</td>\n    </tr>\n    <tr>\n      <th>1999-01-01 05:00:00</th>\n      <td>5022.93000</td>\n      <td>12.41</td>\n    </tr>\n    <tr>\n      <th>...</th>\n      <td>...</td>\n      <td>...</td>\n    </tr>\n    <tr>\n      <th>2020-09-16 20:00:00</th>\n      <td>8394.08000</td>\n      <td>57.47</td>\n    </tr>\n    <tr>\n      <th>2020-09-16 21:00:00</th>\n      <td>7938.99000</td>\n      <td>55.13</td>\n    </tr>\n    <tr>\n      <th>2020-09-16 22:00:00</th>\n      <td>7541.11000</td>\n      <td>38.92</td>\n    </tr>\n    <tr>\n      <th>2020-09-16 23:00:00</th>\n      <td>7370.46000</td>\n      <td>38.08</td>\n    </tr>\n    <tr>\n      <th>2020-09-17 00:00:00</th>\n      <td>7285.85000</td>\n      <td>39.40</td>\n    </tr>\n  </tbody>\n</table>\n<p>190320 rows × 2 columns</p>\n</div>"
     },
     "metadata": {},
     "execution_count": 6
    }
   ],
   "source": [
    "# Group data by number of listings per date\n",
    "df_example = df.groupby(by='SETTLEMENTDATE').mean()\n",
    "\n",
    "# Change index to datetime\n",
    "df_example.index = pd.to_datetime(df_example.index)\n",
    "\n",
    "# Sort the values\n",
    "df_example = df_example.sort_index(ascending = True)\n",
    "\n",
    "df_example = df_example.tail(-1)\n",
    "\n",
    "df_example = df_example.asfreq(freq='1H')\n",
    "\n",
    "# Fill values with 0\n",
    "df_example = df_example.fillna(value = 0)\n",
    "\n",
    "df_example"
   ]
  },
  {
   "cell_type": "code",
   "execution_count": 7,
   "metadata": {},
   "outputs": [
    {
     "output_type": "execute_result",
     "data": {
      "text/plain": [
       "                     TOTALDEMAND    RRP           dt  timezone       lat  \\\n",
       "1999-01-01 01:00:00   6421.34833  26.64  915112800.0   39600.0 -33.86882   \n",
       "1999-01-01 02:00:00   5663.07333  19.94  915116400.0   39600.0 -33.86882   \n",
       "1999-01-01 03:00:00   5199.31500  15.13  915120000.0   39600.0 -33.86882   \n",
       "1999-01-01 04:00:00   5008.23667  14.19  915123600.0   39600.0 -33.86882   \n",
       "1999-01-01 05:00:00   5022.93000  12.41  915127200.0   39600.0 -33.86882   \n",
       "\n",
       "                            lon   temp  feels_like  temp_min  temp_max  \\\n",
       "1999-01-01 01:00:00  151.209295  21.73       22.14     21.00     22.60   \n",
       "1999-01-01 02:00:00  151.209295  21.60       22.90     21.00     22.04   \n",
       "1999-01-01 03:00:00  151.209295  21.97       23.61     21.77     22.04   \n",
       "1999-01-01 04:00:00  151.209295  22.18       23.49     21.77     22.40   \n",
       "1999-01-01 05:00:00  151.209295  21.98       21.29     21.79     22.10   \n",
       "\n",
       "                     pressure  sea_level  grnd_level  humidity  wind_speed  \\\n",
       "1999-01-01 01:00:00    1020.0        0.0         0.0      85.0         4.1   \n",
       "1999-01-01 02:00:00    1019.0        0.0         0.0      88.0         3.1   \n",
       "1999-01-01 03:00:00    1018.0        0.0         0.0      94.0         3.6   \n",
       "1999-01-01 04:00:00    1018.0        0.0         0.0      89.0         3.6   \n",
       "1999-01-01 05:00:00    1018.0        0.0         0.0      88.0         6.2   \n",
       "\n",
       "                     wind_deg  rain_1h  rain_3h  snow_1h  snow_3h  clouds_all  \\\n",
       "1999-01-01 01:00:00      90.0      0.0      0.0      0.0      0.0        75.0   \n",
       "1999-01-01 02:00:00     110.0      0.0      0.0      0.0      0.0        75.0   \n",
       "1999-01-01 03:00:00     120.0      0.0      0.0      0.0      0.0        75.0   \n",
       "1999-01-01 04:00:00     120.0      0.0      0.0      0.0      0.0        75.0   \n",
       "1999-01-01 05:00:00      90.0      0.0      0.0      0.0      0.0        75.0   \n",
       "\n",
       "                     weather_id  \n",
       "1999-01-01 01:00:00       803.0  \n",
       "1999-01-01 02:00:00       803.0  \n",
       "1999-01-01 03:00:00       803.0  \n",
       "1999-01-01 04:00:00       803.0  \n",
       "1999-01-01 05:00:00       803.0  "
      ],
      "text/html": "<div>\n<style scoped>\n    .dataframe tbody tr th:only-of-type {\n        vertical-align: middle;\n    }\n\n    .dataframe tbody tr th {\n        vertical-align: top;\n    }\n\n    .dataframe thead th {\n        text-align: right;\n    }\n</style>\n<table border=\"1\" class=\"dataframe\">\n  <thead>\n    <tr style=\"text-align: right;\">\n      <th></th>\n      <th>TOTALDEMAND</th>\n      <th>RRP</th>\n      <th>dt</th>\n      <th>timezone</th>\n      <th>lat</th>\n      <th>lon</th>\n      <th>temp</th>\n      <th>feels_like</th>\n      <th>temp_min</th>\n      <th>temp_max</th>\n      <th>pressure</th>\n      <th>sea_level</th>\n      <th>grnd_level</th>\n      <th>humidity</th>\n      <th>wind_speed</th>\n      <th>wind_deg</th>\n      <th>rain_1h</th>\n      <th>rain_3h</th>\n      <th>snow_1h</th>\n      <th>snow_3h</th>\n      <th>clouds_all</th>\n      <th>weather_id</th>\n    </tr>\n  </thead>\n  <tbody>\n    <tr>\n      <th>1999-01-01 01:00:00</th>\n      <td>6421.34833</td>\n      <td>26.64</td>\n      <td>915112800.0</td>\n      <td>39600.0</td>\n      <td>-33.86882</td>\n      <td>151.209295</td>\n      <td>21.73</td>\n      <td>22.14</td>\n      <td>21.00</td>\n      <td>22.60</td>\n      <td>1020.0</td>\n      <td>0.0</td>\n      <td>0.0</td>\n      <td>85.0</td>\n      <td>4.1</td>\n      <td>90.0</td>\n      <td>0.0</td>\n      <td>0.0</td>\n      <td>0.0</td>\n      <td>0.0</td>\n      <td>75.0</td>\n      <td>803.0</td>\n    </tr>\n    <tr>\n      <th>1999-01-01 02:00:00</th>\n      <td>5663.07333</td>\n      <td>19.94</td>\n      <td>915116400.0</td>\n      <td>39600.0</td>\n      <td>-33.86882</td>\n      <td>151.209295</td>\n      <td>21.60</td>\n      <td>22.90</td>\n      <td>21.00</td>\n      <td>22.04</td>\n      <td>1019.0</td>\n      <td>0.0</td>\n      <td>0.0</td>\n      <td>88.0</td>\n      <td>3.1</td>\n      <td>110.0</td>\n      <td>0.0</td>\n      <td>0.0</td>\n      <td>0.0</td>\n      <td>0.0</td>\n      <td>75.0</td>\n      <td>803.0</td>\n    </tr>\n    <tr>\n      <th>1999-01-01 03:00:00</th>\n      <td>5199.31500</td>\n      <td>15.13</td>\n      <td>915120000.0</td>\n      <td>39600.0</td>\n      <td>-33.86882</td>\n      <td>151.209295</td>\n      <td>21.97</td>\n      <td>23.61</td>\n      <td>21.77</td>\n      <td>22.04</td>\n      <td>1018.0</td>\n      <td>0.0</td>\n      <td>0.0</td>\n      <td>94.0</td>\n      <td>3.6</td>\n      <td>120.0</td>\n      <td>0.0</td>\n      <td>0.0</td>\n      <td>0.0</td>\n      <td>0.0</td>\n      <td>75.0</td>\n      <td>803.0</td>\n    </tr>\n    <tr>\n      <th>1999-01-01 04:00:00</th>\n      <td>5008.23667</td>\n      <td>14.19</td>\n      <td>915123600.0</td>\n      <td>39600.0</td>\n      <td>-33.86882</td>\n      <td>151.209295</td>\n      <td>22.18</td>\n      <td>23.49</td>\n      <td>21.77</td>\n      <td>22.40</td>\n      <td>1018.0</td>\n      <td>0.0</td>\n      <td>0.0</td>\n      <td>89.0</td>\n      <td>3.6</td>\n      <td>120.0</td>\n      <td>0.0</td>\n      <td>0.0</td>\n      <td>0.0</td>\n      <td>0.0</td>\n      <td>75.0</td>\n      <td>803.0</td>\n    </tr>\n    <tr>\n      <th>1999-01-01 05:00:00</th>\n      <td>5022.93000</td>\n      <td>12.41</td>\n      <td>915127200.0</td>\n      <td>39600.0</td>\n      <td>-33.86882</td>\n      <td>151.209295</td>\n      <td>21.98</td>\n      <td>21.29</td>\n      <td>21.79</td>\n      <td>22.10</td>\n      <td>1018.0</td>\n      <td>0.0</td>\n      <td>0.0</td>\n      <td>88.0</td>\n      <td>6.2</td>\n      <td>90.0</td>\n      <td>0.0</td>\n      <td>0.0</td>\n      <td>0.0</td>\n      <td>0.0</td>\n      <td>75.0</td>\n      <td>803.0</td>\n    </tr>\n  </tbody>\n</table>\n</div>"
     },
     "metadata": {},
     "execution_count": 7
    }
   ],
   "source": [
    "df_example = df_example.merge(df_temp, left_index=True, right_index=True, how='inner')\n",
    "df_example = df_example.fillna(0)\n",
    "df_example.head()"
   ]
  },
  {
   "cell_type": "code",
   "execution_count": 8,
   "metadata": {},
   "outputs": [
    {
     "output_type": "execute_result",
     "data": {
      "text/plain": [
       "                     TOTALDEMAND    RRP           dt  timezone       lat  \\\n",
       "1999-01-01 01:00:00   6421.34833  26.64  915112800.0   39600.0 -33.86882   \n",
       "1999-01-01 02:00:00   5663.07333  19.94  915116400.0   39600.0 -33.86882   \n",
       "1999-01-01 03:00:00   5199.31500  15.13  915120000.0   39600.0 -33.86882   \n",
       "1999-01-01 04:00:00   5008.23667  14.19  915123600.0   39600.0 -33.86882   \n",
       "1999-01-01 05:00:00   5022.93000  12.41  915127200.0   39600.0 -33.86882   \n",
       "\n",
       "                            lon   temp  feels_like  temp_min  temp_max  \\\n",
       "1999-01-01 01:00:00  151.209295  21.73       22.14     21.00     22.60   \n",
       "1999-01-01 02:00:00  151.209295  21.60       22.90     21.00     22.04   \n",
       "1999-01-01 03:00:00  151.209295  21.97       23.61     21.77     22.04   \n",
       "1999-01-01 04:00:00  151.209295  22.18       23.49     21.77     22.40   \n",
       "1999-01-01 05:00:00  151.209295  21.98       21.29     21.79     22.10   \n",
       "\n",
       "                     pressure  sea_level  grnd_level  humidity  wind_speed  \\\n",
       "1999-01-01 01:00:00    1020.0        0.0         0.0      85.0         4.1   \n",
       "1999-01-01 02:00:00    1019.0        0.0         0.0      88.0         3.1   \n",
       "1999-01-01 03:00:00    1018.0        0.0         0.0      94.0         3.6   \n",
       "1999-01-01 04:00:00    1018.0        0.0         0.0      89.0         3.6   \n",
       "1999-01-01 05:00:00    1018.0        0.0         0.0      88.0         6.2   \n",
       "\n",
       "                     wind_deg  rain_1h  rain_3h  snow_1h  snow_3h  clouds_all  \\\n",
       "1999-01-01 01:00:00      90.0      0.0      0.0      0.0      0.0        75.0   \n",
       "1999-01-01 02:00:00     110.0      0.0      0.0      0.0      0.0        75.0   \n",
       "1999-01-01 03:00:00     120.0      0.0      0.0      0.0      0.0        75.0   \n",
       "1999-01-01 04:00:00     120.0      0.0      0.0      0.0      0.0        75.0   \n",
       "1999-01-01 05:00:00      90.0      0.0      0.0      0.0      0.0        75.0   \n",
       "\n",
       "                     weather_id  isHoliday  \n",
       "1999-01-01 01:00:00       803.0          1  \n",
       "1999-01-01 02:00:00       803.0          1  \n",
       "1999-01-01 03:00:00       803.0          1  \n",
       "1999-01-01 04:00:00       803.0          1  \n",
       "1999-01-01 05:00:00       803.0          1  "
      ],
      "text/html": "<div>\n<style scoped>\n    .dataframe tbody tr th:only-of-type {\n        vertical-align: middle;\n    }\n\n    .dataframe tbody tr th {\n        vertical-align: top;\n    }\n\n    .dataframe thead th {\n        text-align: right;\n    }\n</style>\n<table border=\"1\" class=\"dataframe\">\n  <thead>\n    <tr style=\"text-align: right;\">\n      <th></th>\n      <th>TOTALDEMAND</th>\n      <th>RRP</th>\n      <th>dt</th>\n      <th>timezone</th>\n      <th>lat</th>\n      <th>lon</th>\n      <th>temp</th>\n      <th>feels_like</th>\n      <th>temp_min</th>\n      <th>temp_max</th>\n      <th>pressure</th>\n      <th>sea_level</th>\n      <th>grnd_level</th>\n      <th>humidity</th>\n      <th>wind_speed</th>\n      <th>wind_deg</th>\n      <th>rain_1h</th>\n      <th>rain_3h</th>\n      <th>snow_1h</th>\n      <th>snow_3h</th>\n      <th>clouds_all</th>\n      <th>weather_id</th>\n      <th>isHoliday</th>\n    </tr>\n  </thead>\n  <tbody>\n    <tr>\n      <th>1999-01-01 01:00:00</th>\n      <td>6421.34833</td>\n      <td>26.64</td>\n      <td>915112800.0</td>\n      <td>39600.0</td>\n      <td>-33.86882</td>\n      <td>151.209295</td>\n      <td>21.73</td>\n      <td>22.14</td>\n      <td>21.00</td>\n      <td>22.60</td>\n      <td>1020.0</td>\n      <td>0.0</td>\n      <td>0.0</td>\n      <td>85.0</td>\n      <td>4.1</td>\n      <td>90.0</td>\n      <td>0.0</td>\n      <td>0.0</td>\n      <td>0.0</td>\n      <td>0.0</td>\n      <td>75.0</td>\n      <td>803.0</td>\n      <td>1</td>\n    </tr>\n    <tr>\n      <th>1999-01-01 02:00:00</th>\n      <td>5663.07333</td>\n      <td>19.94</td>\n      <td>915116400.0</td>\n      <td>39600.0</td>\n      <td>-33.86882</td>\n      <td>151.209295</td>\n      <td>21.60</td>\n      <td>22.90</td>\n      <td>21.00</td>\n      <td>22.04</td>\n      <td>1019.0</td>\n      <td>0.0</td>\n      <td>0.0</td>\n      <td>88.0</td>\n      <td>3.1</td>\n      <td>110.0</td>\n      <td>0.0</td>\n      <td>0.0</td>\n      <td>0.0</td>\n      <td>0.0</td>\n      <td>75.0</td>\n      <td>803.0</td>\n      <td>1</td>\n    </tr>\n    <tr>\n      <th>1999-01-01 03:00:00</th>\n      <td>5199.31500</td>\n      <td>15.13</td>\n      <td>915120000.0</td>\n      <td>39600.0</td>\n      <td>-33.86882</td>\n      <td>151.209295</td>\n      <td>21.97</td>\n      <td>23.61</td>\n      <td>21.77</td>\n      <td>22.04</td>\n      <td>1018.0</td>\n      <td>0.0</td>\n      <td>0.0</td>\n      <td>94.0</td>\n      <td>3.6</td>\n      <td>120.0</td>\n      <td>0.0</td>\n      <td>0.0</td>\n      <td>0.0</td>\n      <td>0.0</td>\n      <td>75.0</td>\n      <td>803.0</td>\n      <td>1</td>\n    </tr>\n    <tr>\n      <th>1999-01-01 04:00:00</th>\n      <td>5008.23667</td>\n      <td>14.19</td>\n      <td>915123600.0</td>\n      <td>39600.0</td>\n      <td>-33.86882</td>\n      <td>151.209295</td>\n      <td>22.18</td>\n      <td>23.49</td>\n      <td>21.77</td>\n      <td>22.40</td>\n      <td>1018.0</td>\n      <td>0.0</td>\n      <td>0.0</td>\n      <td>89.0</td>\n      <td>3.6</td>\n      <td>120.0</td>\n      <td>0.0</td>\n      <td>0.0</td>\n      <td>0.0</td>\n      <td>0.0</td>\n      <td>75.0</td>\n      <td>803.0</td>\n      <td>1</td>\n    </tr>\n    <tr>\n      <th>1999-01-01 05:00:00</th>\n      <td>5022.93000</td>\n      <td>12.41</td>\n      <td>915127200.0</td>\n      <td>39600.0</td>\n      <td>-33.86882</td>\n      <td>151.209295</td>\n      <td>21.98</td>\n      <td>21.29</td>\n      <td>21.79</td>\n      <td>22.10</td>\n      <td>1018.0</td>\n      <td>0.0</td>\n      <td>0.0</td>\n      <td>88.0</td>\n      <td>6.2</td>\n      <td>90.0</td>\n      <td>0.0</td>\n      <td>0.0</td>\n      <td>0.0</td>\n      <td>0.0</td>\n      <td>75.0</td>\n      <td>803.0</td>\n      <td>1</td>\n    </tr>\n  </tbody>\n</table>\n</div>"
     },
     "metadata": {},
     "execution_count": 8
    }
   ],
   "source": [
    "# dfmx['date'] = pd.to_datetime(dfmx[['Year', 'Month', 'Day']])\n",
    "# dfmx = dfmx.rename(columns = {'Maximum temperature (Degree C)': 'max_temp'})\n",
    "# df_max = dfmx.groupby(by = 'date').agg({'max_temp': 'sum'})\n",
    "# max_mask = (df_max.index.date >= df_example.index[0]) & (df_max.index.date <= df_example.index[len(df_example)-1])\n",
    "\n",
    "# dfmn['date'] = pd.to_datetime(dfmn[['Year', 'Month', 'Day']])\n",
    "# dfmn = dfmn.rename(columns = {'Minimum temperature (Degree C)': 'min_temp'})\n",
    "# df_min = dfmn.groupby(by = 'date').agg({'min_temp': 'sum'})\n",
    "# min_mask = (df_min.index.date >= df_example.index[0]) & (df_min.index.date <= df_example.index[len(df_example)-1])\n",
    "\n",
    "# df_example['max_temp'] = df_max.loc[max_mask]\n",
    "# df_example['min_temp'] = df_min.loc[min_mask]\n",
    "# df_example['avg'] = df_example[['max_temp', 'min_temp']].mean(axis=1)\n",
    "\n",
    "# Holiday added\n",
    "aus_holidays = holidays.CountryHoliday('AUS', prov='NSW')\n",
    "df_example['isHoliday'] = 0\n",
    "for i,j in enumerate(df_example.index):    \n",
    "    if j in aus_holidays:\n",
    "        df_example['isHoliday'][i] = 1\n",
    "    else:\n",
    "        df_example['isHoliday'][i] = 0\n",
    "\n",
    "df_example.head()"
   ]
  },
  {
   "cell_type": "code",
   "execution_count": 9,
   "metadata": {},
   "outputs": [],
   "source": [
    "df_example['hour'] = df_example.index.hour\n",
    "df_example['day'] = df_example.index.day\n",
    "df_example['dayofweek'] = df_example.index.dayofweek\n",
    "df_example['dayofyear'] = df_example.index.dayofyear\n",
    "df_example['month'] = df_example.index.month\n",
    "df_example['weekofyear'] = df_example.index.weekofyear"
   ]
  },
  {
   "cell_type": "code",
   "execution_count": 10,
   "metadata": {},
   "outputs": [
    {
     "output_type": "execute_result",
     "data": {
      "text/plain": [
       "                     TOTALDEMAND    RRP            dt  timezone       lat  \\\n",
       "1999-01-01 01:00:00   6421.34833  26.64  9.151128e+08   39600.0 -33.86882   \n",
       "1999-01-01 02:00:00   5663.07333  19.94  9.151164e+08   39600.0 -33.86882   \n",
       "1999-01-01 03:00:00   5199.31500  15.13  9.151200e+08   39600.0 -33.86882   \n",
       "1999-01-01 04:00:00   5008.23667  14.19  9.151236e+08   39600.0 -33.86882   \n",
       "1999-01-01 05:00:00   5022.93000  12.41  9.151272e+08   39600.0 -33.86882   \n",
       "...                          ...    ...           ...       ...       ...   \n",
       "2020-09-16 20:00:00   8394.08000  57.47  1.600250e+09   36000.0 -33.86882   \n",
       "2020-09-16 21:00:00   7938.99000  55.13  1.600254e+09   36000.0 -33.86882   \n",
       "2020-09-16 22:00:00   7541.11000  38.92  1.600258e+09   36000.0 -33.86882   \n",
       "2020-09-16 23:00:00   7370.46000  38.08  1.600261e+09   36000.0 -33.86882   \n",
       "2020-09-17 00:00:00   7285.85000  39.40  1.600265e+09   36000.0 -33.86882   \n",
       "\n",
       "                            lon   temp  feels_like  temp_min  temp_max  \\\n",
       "1999-01-01 01:00:00  151.209295  21.73       22.14     21.00     22.60   \n",
       "1999-01-01 02:00:00  151.209295  21.60       22.90     21.00     22.04   \n",
       "1999-01-01 03:00:00  151.209295  21.97       23.61     21.77     22.04   \n",
       "1999-01-01 04:00:00  151.209295  22.18       23.49     21.77     22.40   \n",
       "1999-01-01 05:00:00  151.209295  21.98       21.29     21.79     22.10   \n",
       "...                         ...    ...         ...       ...       ...   \n",
       "2020-09-16 20:00:00  151.209295  19.75       18.03     17.22     22.22   \n",
       "2020-09-16 21:00:00  151.209295  18.21       14.92     15.00     21.00   \n",
       "2020-09-16 22:00:00  151.209295  17.11       16.53     13.89     19.86   \n",
       "2020-09-16 23:00:00  151.209295  16.08       15.45     14.00     18.33   \n",
       "2020-09-17 00:00:00  151.209295  15.78       14.91     13.00     18.33   \n",
       "\n",
       "                     pressure  sea_level  grnd_level  humidity  wind_speed  \\\n",
       "1999-01-01 01:00:00    1020.0        0.0         0.0      85.0        4.10   \n",
       "1999-01-01 02:00:00    1019.0        0.0         0.0      88.0        3.10   \n",
       "1999-01-01 03:00:00    1018.0        0.0         0.0      94.0        3.60   \n",
       "1999-01-01 04:00:00    1018.0        0.0         0.0      89.0        3.60   \n",
       "1999-01-01 05:00:00    1018.0        0.0         0.0      88.0        6.20   \n",
       "...                       ...        ...         ...       ...         ...   \n",
       "2020-09-16 20:00:00    1020.0        0.0         0.0      68.0        4.10   \n",
       "2020-09-16 21:00:00    1020.0        0.0         0.0      52.0        4.10   \n",
       "2020-09-16 22:00:00    1020.0        0.0         0.0      72.0        1.72   \n",
       "2020-09-16 23:00:00    1020.0        0.0         0.0      76.0        1.72   \n",
       "2020-09-17 00:00:00    1020.0        0.0         0.0      59.0        0.50   \n",
       "\n",
       "                     wind_deg  rain_1h  rain_3h  snow_1h  snow_3h  clouds_all  \\\n",
       "1999-01-01 01:00:00      90.0      0.0      0.0      0.0      0.0        75.0   \n",
       "1999-01-01 02:00:00     110.0      0.0      0.0      0.0      0.0        75.0   \n",
       "1999-01-01 03:00:00     120.0      0.0      0.0      0.0      0.0        75.0   \n",
       "1999-01-01 04:00:00     120.0      0.0      0.0      0.0      0.0        75.0   \n",
       "1999-01-01 05:00:00      90.0      0.0      0.0      0.0      0.0        75.0   \n",
       "...                       ...      ...      ...      ...      ...         ...   \n",
       "2020-09-16 20:00:00     360.0      0.0      0.0      0.0      0.0        33.0   \n",
       "2020-09-16 21:00:00     350.0      0.0      0.0      0.0      0.0         0.0   \n",
       "2020-09-16 22:00:00     282.0      0.0      0.0      0.0      0.0         0.0   \n",
       "2020-09-16 23:00:00     282.0      0.0      0.0      0.0      0.0         0.0   \n",
       "2020-09-17 00:00:00     350.0      0.0      0.0      0.0      0.0        76.0   \n",
       "\n",
       "                     weather_id  isHoliday  hour  day  dayofweek  dayofyear  \\\n",
       "1999-01-01 01:00:00       803.0          1     1    1          4          1   \n",
       "1999-01-01 02:00:00       803.0          1     2    1          4          1   \n",
       "1999-01-01 03:00:00       803.0          1     3    1          4          1   \n",
       "1999-01-01 04:00:00       803.0          1     4    1          4          1   \n",
       "1999-01-01 05:00:00       803.0          1     5    1          4          1   \n",
       "...                         ...        ...   ...  ...        ...        ...   \n",
       "2020-09-16 20:00:00       802.0          0    20   16          2        260   \n",
       "2020-09-16 21:00:00       800.0          0    21   16          2        260   \n",
       "2020-09-16 22:00:00       800.0          0    22   16          2        260   \n",
       "2020-09-16 23:00:00       800.0          0    23   16          2        260   \n",
       "2020-09-17 00:00:00       803.0          0     0   17          3        261   \n",
       "\n",
       "                     month  weekofyear  \n",
       "1999-01-01 01:00:00      1          53  \n",
       "1999-01-01 02:00:00      1          53  \n",
       "1999-01-01 03:00:00      1          53  \n",
       "1999-01-01 04:00:00      1          53  \n",
       "1999-01-01 05:00:00      1          53  \n",
       "...                    ...         ...  \n",
       "2020-09-16 20:00:00      9          38  \n",
       "2020-09-16 21:00:00      9          38  \n",
       "2020-09-16 22:00:00      9          38  \n",
       "2020-09-16 23:00:00      9          38  \n",
       "2020-09-17 00:00:00      9          38  \n",
       "\n",
       "[190321 rows x 29 columns]"
      ],
      "text/html": "<div>\n<style scoped>\n    .dataframe tbody tr th:only-of-type {\n        vertical-align: middle;\n    }\n\n    .dataframe tbody tr th {\n        vertical-align: top;\n    }\n\n    .dataframe thead th {\n        text-align: right;\n    }\n</style>\n<table border=\"1\" class=\"dataframe\">\n  <thead>\n    <tr style=\"text-align: right;\">\n      <th></th>\n      <th>TOTALDEMAND</th>\n      <th>RRP</th>\n      <th>dt</th>\n      <th>timezone</th>\n      <th>lat</th>\n      <th>lon</th>\n      <th>temp</th>\n      <th>feels_like</th>\n      <th>temp_min</th>\n      <th>temp_max</th>\n      <th>pressure</th>\n      <th>sea_level</th>\n      <th>grnd_level</th>\n      <th>humidity</th>\n      <th>wind_speed</th>\n      <th>wind_deg</th>\n      <th>rain_1h</th>\n      <th>rain_3h</th>\n      <th>snow_1h</th>\n      <th>snow_3h</th>\n      <th>clouds_all</th>\n      <th>weather_id</th>\n      <th>isHoliday</th>\n      <th>hour</th>\n      <th>day</th>\n      <th>dayofweek</th>\n      <th>dayofyear</th>\n      <th>month</th>\n      <th>weekofyear</th>\n    </tr>\n  </thead>\n  <tbody>\n    <tr>\n      <th>1999-01-01 01:00:00</th>\n      <td>6421.34833</td>\n      <td>26.64</td>\n      <td>9.151128e+08</td>\n      <td>39600.0</td>\n      <td>-33.86882</td>\n      <td>151.209295</td>\n      <td>21.73</td>\n      <td>22.14</td>\n      <td>21.00</td>\n      <td>22.60</td>\n      <td>1020.0</td>\n      <td>0.0</td>\n      <td>0.0</td>\n      <td>85.0</td>\n      <td>4.10</td>\n      <td>90.0</td>\n      <td>0.0</td>\n      <td>0.0</td>\n      <td>0.0</td>\n      <td>0.0</td>\n      <td>75.0</td>\n      <td>803.0</td>\n      <td>1</td>\n      <td>1</td>\n      <td>1</td>\n      <td>4</td>\n      <td>1</td>\n      <td>1</td>\n      <td>53</td>\n    </tr>\n    <tr>\n      <th>1999-01-01 02:00:00</th>\n      <td>5663.07333</td>\n      <td>19.94</td>\n      <td>9.151164e+08</td>\n      <td>39600.0</td>\n      <td>-33.86882</td>\n      <td>151.209295</td>\n      <td>21.60</td>\n      <td>22.90</td>\n      <td>21.00</td>\n      <td>22.04</td>\n      <td>1019.0</td>\n      <td>0.0</td>\n      <td>0.0</td>\n      <td>88.0</td>\n      <td>3.10</td>\n      <td>110.0</td>\n      <td>0.0</td>\n      <td>0.0</td>\n      <td>0.0</td>\n      <td>0.0</td>\n      <td>75.0</td>\n      <td>803.0</td>\n      <td>1</td>\n      <td>2</td>\n      <td>1</td>\n      <td>4</td>\n      <td>1</td>\n      <td>1</td>\n      <td>53</td>\n    </tr>\n    <tr>\n      <th>1999-01-01 03:00:00</th>\n      <td>5199.31500</td>\n      <td>15.13</td>\n      <td>9.151200e+08</td>\n      <td>39600.0</td>\n      <td>-33.86882</td>\n      <td>151.209295</td>\n      <td>21.97</td>\n      <td>23.61</td>\n      <td>21.77</td>\n      <td>22.04</td>\n      <td>1018.0</td>\n      <td>0.0</td>\n      <td>0.0</td>\n      <td>94.0</td>\n      <td>3.60</td>\n      <td>120.0</td>\n      <td>0.0</td>\n      <td>0.0</td>\n      <td>0.0</td>\n      <td>0.0</td>\n      <td>75.0</td>\n      <td>803.0</td>\n      <td>1</td>\n      <td>3</td>\n      <td>1</td>\n      <td>4</td>\n      <td>1</td>\n      <td>1</td>\n      <td>53</td>\n    </tr>\n    <tr>\n      <th>1999-01-01 04:00:00</th>\n      <td>5008.23667</td>\n      <td>14.19</td>\n      <td>9.151236e+08</td>\n      <td>39600.0</td>\n      <td>-33.86882</td>\n      <td>151.209295</td>\n      <td>22.18</td>\n      <td>23.49</td>\n      <td>21.77</td>\n      <td>22.40</td>\n      <td>1018.0</td>\n      <td>0.0</td>\n      <td>0.0</td>\n      <td>89.0</td>\n      <td>3.60</td>\n      <td>120.0</td>\n      <td>0.0</td>\n      <td>0.0</td>\n      <td>0.0</td>\n      <td>0.0</td>\n      <td>75.0</td>\n      <td>803.0</td>\n      <td>1</td>\n      <td>4</td>\n      <td>1</td>\n      <td>4</td>\n      <td>1</td>\n      <td>1</td>\n      <td>53</td>\n    </tr>\n    <tr>\n      <th>1999-01-01 05:00:00</th>\n      <td>5022.93000</td>\n      <td>12.41</td>\n      <td>9.151272e+08</td>\n      <td>39600.0</td>\n      <td>-33.86882</td>\n      <td>151.209295</td>\n      <td>21.98</td>\n      <td>21.29</td>\n      <td>21.79</td>\n      <td>22.10</td>\n      <td>1018.0</td>\n      <td>0.0</td>\n      <td>0.0</td>\n      <td>88.0</td>\n      <td>6.20</td>\n      <td>90.0</td>\n      <td>0.0</td>\n      <td>0.0</td>\n      <td>0.0</td>\n      <td>0.0</td>\n      <td>75.0</td>\n      <td>803.0</td>\n      <td>1</td>\n      <td>5</td>\n      <td>1</td>\n      <td>4</td>\n      <td>1</td>\n      <td>1</td>\n      <td>53</td>\n    </tr>\n    <tr>\n      <th>...</th>\n      <td>...</td>\n      <td>...</td>\n      <td>...</td>\n      <td>...</td>\n      <td>...</td>\n      <td>...</td>\n      <td>...</td>\n      <td>...</td>\n      <td>...</td>\n      <td>...</td>\n      <td>...</td>\n      <td>...</td>\n      <td>...</td>\n      <td>...</td>\n      <td>...</td>\n      <td>...</td>\n      <td>...</td>\n      <td>...</td>\n      <td>...</td>\n      <td>...</td>\n      <td>...</td>\n      <td>...</td>\n      <td>...</td>\n      <td>...</td>\n      <td>...</td>\n      <td>...</td>\n      <td>...</td>\n      <td>...</td>\n      <td>...</td>\n    </tr>\n    <tr>\n      <th>2020-09-16 20:00:00</th>\n      <td>8394.08000</td>\n      <td>57.47</td>\n      <td>1.600250e+09</td>\n      <td>36000.0</td>\n      <td>-33.86882</td>\n      <td>151.209295</td>\n      <td>19.75</td>\n      <td>18.03</td>\n      <td>17.22</td>\n      <td>22.22</td>\n      <td>1020.0</td>\n      <td>0.0</td>\n      <td>0.0</td>\n      <td>68.0</td>\n      <td>4.10</td>\n      <td>360.0</td>\n      <td>0.0</td>\n      <td>0.0</td>\n      <td>0.0</td>\n      <td>0.0</td>\n      <td>33.0</td>\n      <td>802.0</td>\n      <td>0</td>\n      <td>20</td>\n      <td>16</td>\n      <td>2</td>\n      <td>260</td>\n      <td>9</td>\n      <td>38</td>\n    </tr>\n    <tr>\n      <th>2020-09-16 21:00:00</th>\n      <td>7938.99000</td>\n      <td>55.13</td>\n      <td>1.600254e+09</td>\n      <td>36000.0</td>\n      <td>-33.86882</td>\n      <td>151.209295</td>\n      <td>18.21</td>\n      <td>14.92</td>\n      <td>15.00</td>\n      <td>21.00</td>\n      <td>1020.0</td>\n      <td>0.0</td>\n      <td>0.0</td>\n      <td>52.0</td>\n      <td>4.10</td>\n      <td>350.0</td>\n      <td>0.0</td>\n      <td>0.0</td>\n      <td>0.0</td>\n      <td>0.0</td>\n      <td>0.0</td>\n      <td>800.0</td>\n      <td>0</td>\n      <td>21</td>\n      <td>16</td>\n      <td>2</td>\n      <td>260</td>\n      <td>9</td>\n      <td>38</td>\n    </tr>\n    <tr>\n      <th>2020-09-16 22:00:00</th>\n      <td>7541.11000</td>\n      <td>38.92</td>\n      <td>1.600258e+09</td>\n      <td>36000.0</td>\n      <td>-33.86882</td>\n      <td>151.209295</td>\n      <td>17.11</td>\n      <td>16.53</td>\n      <td>13.89</td>\n      <td>19.86</td>\n      <td>1020.0</td>\n      <td>0.0</td>\n      <td>0.0</td>\n      <td>72.0</td>\n      <td>1.72</td>\n      <td>282.0</td>\n      <td>0.0</td>\n      <td>0.0</td>\n      <td>0.0</td>\n      <td>0.0</td>\n      <td>0.0</td>\n      <td>800.0</td>\n      <td>0</td>\n      <td>22</td>\n      <td>16</td>\n      <td>2</td>\n      <td>260</td>\n      <td>9</td>\n      <td>38</td>\n    </tr>\n    <tr>\n      <th>2020-09-16 23:00:00</th>\n      <td>7370.46000</td>\n      <td>38.08</td>\n      <td>1.600261e+09</td>\n      <td>36000.0</td>\n      <td>-33.86882</td>\n      <td>151.209295</td>\n      <td>16.08</td>\n      <td>15.45</td>\n      <td>14.00</td>\n      <td>18.33</td>\n      <td>1020.0</td>\n      <td>0.0</td>\n      <td>0.0</td>\n      <td>76.0</td>\n      <td>1.72</td>\n      <td>282.0</td>\n      <td>0.0</td>\n      <td>0.0</td>\n      <td>0.0</td>\n      <td>0.0</td>\n      <td>0.0</td>\n      <td>800.0</td>\n      <td>0</td>\n      <td>23</td>\n      <td>16</td>\n      <td>2</td>\n      <td>260</td>\n      <td>9</td>\n      <td>38</td>\n    </tr>\n    <tr>\n      <th>2020-09-17 00:00:00</th>\n      <td>7285.85000</td>\n      <td>39.40</td>\n      <td>1.600265e+09</td>\n      <td>36000.0</td>\n      <td>-33.86882</td>\n      <td>151.209295</td>\n      <td>15.78</td>\n      <td>14.91</td>\n      <td>13.00</td>\n      <td>18.33</td>\n      <td>1020.0</td>\n      <td>0.0</td>\n      <td>0.0</td>\n      <td>59.0</td>\n      <td>0.50</td>\n      <td>350.0</td>\n      <td>0.0</td>\n      <td>0.0</td>\n      <td>0.0</td>\n      <td>0.0</td>\n      <td>76.0</td>\n      <td>803.0</td>\n      <td>0</td>\n      <td>0</td>\n      <td>17</td>\n      <td>3</td>\n      <td>261</td>\n      <td>9</td>\n      <td>38</td>\n    </tr>\n  </tbody>\n</table>\n<p>190321 rows × 29 columns</p>\n</div>"
     },
     "metadata": {},
     "execution_count": 10
    }
   ],
   "source": [
    "# df_example1.head()\n",
    "# df_example2.head()\n",
    "df_example"
   ]
  },
  {
   "cell_type": "code",
   "execution_count": 11,
   "metadata": {},
   "outputs": [],
   "source": [
    "# fig = plt.figure(figsize=(18, 14))\n",
    "# corr = df_example.corr()\n",
    "# c = plt.pcolor(corr)\n",
    "# plt.yticks(np.arange(0.5, len(corr.index), 1), corr.index)\n",
    "# plt.xticks(np.arange(0.5, len(corr.columns), 1), corr.columns)\n",
    "# fig.colorbar(c)"
   ]
  },
  {
   "cell_type": "code",
   "execution_count": 12,
   "metadata": {},
   "outputs": [],
   "source": [
    "# sns.pairplot(df_example, vars=['consumption','max_temp','min_temp','avg', 'isHoliday','day'\t,'dayofweek','dayofyear','month','weekofyear'])"
   ]
  },
  {
   "cell_type": "code",
   "execution_count": 13,
   "metadata": {},
   "outputs": [],
   "source": [
    "# scaler = MinMaxScaler()\n",
    "# scaler.fit(df_example)\n",
    "# df_example = df_example.astype(int)\n",
    "# matrixTransform=scaler.transform(df_example)\n",
    "# matrixTransform[0:3]"
   ]
  },
  {
   "cell_type": "code",
   "execution_count": 14,
   "metadata": {},
   "outputs": [],
   "source": [
    "# X = [item[1:10] for item in matrixTransform]\n",
    "# Y = [item[0] for item in matrixTransform]"
   ]
  },
  {
   "cell_type": "code",
   "execution_count": 15,
   "metadata": {
    "tags": []
   },
   "outputs": [],
   "source": [
    "# df_example = df_example.astype(int)\n",
    "X = np.array(df_example[['temp','temp_min','temp_max','humidity','wind_speed','wind_deg','rain_1h','snow_1h','clouds_all','isHoliday','hour','day','dayofweek','dayofyear','month','weekofyear']])\n",
    "Y = np.array(df_example[['TOTALDEMAND']])"
   ]
  },
  {
   "cell_type": "code",
   "execution_count": 16,
   "metadata": {},
   "outputs": [],
   "source": [
    "trnX,tesX, trnY,tesY = train_test_split(X,Y, train_size=0.8, random_state=111, shuffle=True)\n",
    "# trnX,valX,trnY,valY = train_test_split(trnX,trnY, train_size=0.8, random_state=111, shuffle=True)"
   ]
  },
  {
   "cell_type": "code",
   "execution_count": 17,
   "metadata": {},
   "outputs": [],
   "source": [
    "def evalutionMatrix(y_test,y_pred):\n",
    "    print('Mean Squared Error  : ' + str(mean_squared_error(tesY, y_pred)))\n",
    "    print('RMean Squared Error : ' + str(np.sqrt(mean_squared_error(tesY, y_pred))))\n",
    "    print('Mean Absolute Error : ' + str(mean_absolute_error(y_test,y_pred)))"
   ]
  },
  {
   "cell_type": "code",
   "execution_count": 34,
   "metadata": {
    "tags": []
   },
   "outputs": [
    {
     "output_type": "stream",
     "name": "stdout",
     "text": "Mean Squared Error  : 1860181.6607526904\nRMean Squared Error : 1363.8847681357433\nMean Absolute Error : 1099.0092576095376\n"
    }
   ],
   "source": [
    "from sklearn.dummy import DummyRegressor\n",
    "clf = DummyRegressor(strategy= 'mean').fit(trnX,trnY)\n",
    "y_pred = clf.predict(tesX)\n",
    "evalutionMatrix(tesY, y_pred)"
   ]
  },
  {
   "cell_type": "code",
   "execution_count": 35,
   "metadata": {
    "tags": []
   },
   "outputs": [
    {
     "output_type": "stream",
     "name": "stdout",
     "text": "Mean Squared Error  : 1671330.424672026\nRMean Squared Error : 1292.7994526112802\nMean Absolute Error : 1038.40096567096\n"
    }
   ],
   "source": [
    "regr = svm.SVR()\n",
    "regr.fit(trnX,trnY)\n",
    "y_pred = regr.predict(tesX)\n",
    "evalutionMatrix(tesY, y_pred)"
   ]
  },
  {
   "cell_type": "code",
   "execution_count": 19,
   "metadata": {},
   "outputs": [
    {
     "output_type": "stream",
     "name": "stdout",
     "text": [
      "Mean Squared Error  : 182383.69806711018\nRMean Squared Error : 427.06404445599276\nMean Absolute Error : 331.03993219295154\n"
     ]
    }
   ],
   "source": [
    "from sklearn.ensemble import RandomForestRegressor\n",
    "\n",
    "regr1 = RandomForestRegressor()\n",
    "regr1.fit(trnX,trnY)\n",
    "y_pred = regr1.predict(tesX)\n",
    "evalutionMatrix(tesY, y_pred)"
   ]
  },
  {
   "cell_type": "code",
   "execution_count": 20,
   "metadata": {},
   "outputs": [
    {
     "output_type": "stream",
     "name": "stdout",
     "text": [
      "Mean Squared Error  : 1228498.8952371858\nRMean Squared Error : 1108.3766937450398\nMean Absolute Error : 897.486348085512\n"
     ]
    }
   ],
   "source": [
    "from sklearn.linear_model import LinearRegression\n",
    "\n",
    "regr1 = LinearRegression()\n",
    "regr1.fit(trnX,trnY)\n",
    "y_pred = regr1.predict(tesX)\n",
    "evalutionMatrix(tesY, y_pred)"
   ]
  },
  {
   "cell_type": "code",
   "execution_count": 21,
   "metadata": {},
   "outputs": [
    {
     "output_type": "stream",
     "name": "stdout",
     "text": [
      "Mean Squared Error  : 696558.4106891234\nRMean Squared Error : 834.6007492742403\nMean Absolute Error : 668.5426015986969\n"
     ]
    }
   ],
   "source": [
    "from sklearn.neural_network import MLPRegressor\n",
    "\n",
    "regr1 = MLPRegressor()\n",
    "regr1.fit(trnX,trnY)\n",
    "y_pred = regr1.predict(tesX)\n",
    "evalutionMatrix(tesY, y_pred)"
   ]
  },
  {
   "source": [
    "# GridSearch Implimentation"
   ],
   "cell_type": "markdown",
   "metadata": {}
  },
  {
   "cell_type": "code",
   "execution_count": null,
   "metadata": {
    "tags": []
   },
   "outputs": [],
   "source": [
    "# define evaluation\n",
    "cv = RepeatedKFold(n_splits=5, n_repeats=3, random_state=1)\n",
    "\n",
    "#SVR\n",
    "model = svm.LinearSVR()\n",
    "\n",
    "# define search space\n",
    "space = dict()\n",
    "#space['kernel'] = ['linear', 'poly', 'rbf', 'sigmoid']\n",
    "# space['degree'] = [3,5]\n",
    "# space['gamma'] = ['scale','auto']\n",
    "# space['coef0'] = [0.0]\n",
    "# space['tol'] = [0.001]\n",
    "space['C'] = [1,50,100,500,1000]\n",
    "space['epsilon'] = [0.1]\n",
    "space['shrinking'] = [True]\n",
    "space['cache_size'] = [200]\n",
    "space['verbose'] = [False]\n",
    "space['max_iter'] = [-1]\n",
    "\n",
    "# define search\n",
    "search = RandomizedSearchCV(model, space, n_iter=500, scoring='neg_mean_absolute_error', n_jobs=-1, cv=cv, random_state=1)\n",
    "\n",
    "result = search.fit(X,Y)\n",
    "# summarize result\n",
    "print('Best Score: %s' % result.best_score_)\n",
    "print('Best Hyperparameters: %s' % result.best_params_)"
   ]
  },
  {
   "cell_type": "code",
   "execution_count": null,
   "metadata": {
    "tags": []
   },
   "outputs": [],
   "source": [
    "from sklearn.ensemble import RandomForestRegressor\n",
    "\n",
    "#RandomForestRegressor\n",
    "model = RandomForestRegressor()\n",
    "\n",
    "# define search space\n",
    "space = dict()\n",
    "space['n_estimators'] = [10,50,100,200]\n",
    "space['criterion'] = ['mse','mae']\n",
    "space['random_state'] = [173]\n",
    "#space['coef0'] = [0.0]\n",
    "#space['tol'] = [0.001]\n",
    "#space['C'] = [1,50,100,500,1000]\n",
    "#space['epsilon'] = [0.1]\n",
    "# space['shrinking'] = [True]\n",
    "# space['cache_size'] = [200]\n",
    "# space['verbose'] = [False]\n",
    "# space['max_iter'] = [-1]\n",
    "\n",
    "# define search\n",
    "search = RandomizedSearchCV(model, space, n_iter=500, scoring='neg_mean_absolute_error', n_jobs=-1, cv=cv, random_state=1)\n",
    "\n",
    "result = search.fit(X,Y)\n",
    "# summarize result\n",
    "print('Best Score: %s' % result.best_score_)\n",
    "print('Best Hyperparameters: %s' % result.best_params_)"
   ]
  },
  {
   "cell_type": "code",
   "execution_count": null,
   "metadata": {},
   "outputs": [],
   "source": []
  }
 ]
}